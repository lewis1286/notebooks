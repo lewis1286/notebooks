{
 "cells": [
  {
   "cell_type": "markdown",
   "metadata": {},
   "source": [
    "# Finding Fourier Series Coefficients\n",
    "\n",
    "This notebook replicates and extends the introduction to Fourier Series in the following text: \n",
    "\n",
    "[Practical Signal Processing by Mark Owen](https://books.google.com/books/about/Practical_Signal_Processing.html?id=lx-tqq-MkK0C)"
   ]
  },
  {
   "cell_type": "code",
   "execution_count": 2,
   "metadata": {},
   "outputs": [
    {
     "data": {
      "text/html": [
       "\n",
       "    <div class=\"bk-root\">\n",
       "        <a href=\"https://bokeh.pydata.org\" target=\"_blank\" class=\"bk-logo bk-logo-small bk-logo-notebook\"></a>\n",
       "        <span id=\"1e840acc-af71-45d3-bf05-6fdf1cbdad34\">Loading BokehJS ...</span>\n",
       "    </div>"
      ]
     },
     "metadata": {},
     "output_type": "display_data"
    },
    {
     "data": {
      "application/javascript": [
       "\n",
       "(function(root) {\n",
       "  function now() {\n",
       "    return new Date();\n",
       "  }\n",
       "\n",
       "  var force = true;\n",
       "\n",
       "  if (typeof (root._bokeh_onload_callbacks) === \"undefined\" || force === true) {\n",
       "    root._bokeh_onload_callbacks = [];\n",
       "    root._bokeh_is_loading = undefined;\n",
       "  }\n",
       "\n",
       "  var JS_MIME_TYPE = 'application/javascript';\n",
       "  var HTML_MIME_TYPE = 'text/html';\n",
       "  var EXEC_MIME_TYPE = 'application/vnd.bokehjs_exec.v0+json';\n",
       "  var CLASS_NAME = 'output_bokeh rendered_html';\n",
       "\n",
       "  /**\n",
       "   * Render data to the DOM node\n",
       "   */\n",
       "  function render(props, node) {\n",
       "    var script = document.createElement(\"script\");\n",
       "    node.appendChild(script);\n",
       "  }\n",
       "\n",
       "  /**\n",
       "   * Handle when an output is cleared or removed\n",
       "   */\n",
       "  function handleClearOutput(event, handle) {\n",
       "    var cell = handle.cell;\n",
       "\n",
       "    var id = cell.output_area._bokeh_element_id;\n",
       "    var server_id = cell.output_area._bokeh_server_id;\n",
       "    // Clean up Bokeh references\n",
       "    if (id != null && id in Bokeh.index) {\n",
       "      Bokeh.index[id].model.document.clear();\n",
       "      delete Bokeh.index[id];\n",
       "    }\n",
       "\n",
       "    if (server_id !== undefined) {\n",
       "      // Clean up Bokeh references\n",
       "      var cmd = \"from bokeh.io.state import curstate; print(curstate().uuid_to_server['\" + server_id + \"'].get_sessions()[0].document.roots[0]._id)\";\n",
       "      cell.notebook.kernel.execute(cmd, {\n",
       "        iopub: {\n",
       "          output: function(msg) {\n",
       "            var id = msg.content.text.trim();\n",
       "            if (id in Bokeh.index) {\n",
       "              Bokeh.index[id].model.document.clear();\n",
       "              delete Bokeh.index[id];\n",
       "            }\n",
       "          }\n",
       "        }\n",
       "      });\n",
       "      // Destroy server and session\n",
       "      var cmd = \"import bokeh.io.notebook as ion; ion.destroy_server('\" + server_id + \"')\";\n",
       "      cell.notebook.kernel.execute(cmd);\n",
       "    }\n",
       "  }\n",
       "\n",
       "  /**\n",
       "   * Handle when a new output is added\n",
       "   */\n",
       "  function handleAddOutput(event, handle) {\n",
       "    var output_area = handle.output_area;\n",
       "    var output = handle.output;\n",
       "\n",
       "    // limit handleAddOutput to display_data with EXEC_MIME_TYPE content only\n",
       "    if ((output.output_type != \"display_data\") || (!output.data.hasOwnProperty(EXEC_MIME_TYPE))) {\n",
       "      return\n",
       "    }\n",
       "\n",
       "    var toinsert = output_area.element.find(\".\" + CLASS_NAME.split(' ')[0]);\n",
       "\n",
       "    if (output.metadata[EXEC_MIME_TYPE][\"id\"] !== undefined) {\n",
       "      toinsert[toinsert.length - 1].firstChild.textContent = output.data[JS_MIME_TYPE];\n",
       "      // store reference to embed id on output_area\n",
       "      output_area._bokeh_element_id = output.metadata[EXEC_MIME_TYPE][\"id\"];\n",
       "    }\n",
       "    if (output.metadata[EXEC_MIME_TYPE][\"server_id\"] !== undefined) {\n",
       "      var bk_div = document.createElement(\"div\");\n",
       "      bk_div.innerHTML = output.data[HTML_MIME_TYPE];\n",
       "      var script_attrs = bk_div.children[0].attributes;\n",
       "      for (var i = 0; i < script_attrs.length; i++) {\n",
       "        toinsert[toinsert.length - 1].firstChild.setAttribute(script_attrs[i].name, script_attrs[i].value);\n",
       "      }\n",
       "      // store reference to server id on output_area\n",
       "      output_area._bokeh_server_id = output.metadata[EXEC_MIME_TYPE][\"server_id\"];\n",
       "    }\n",
       "  }\n",
       "\n",
       "  function register_renderer(events, OutputArea) {\n",
       "\n",
       "    function append_mime(data, metadata, element) {\n",
       "      // create a DOM node to render to\n",
       "      var toinsert = this.create_output_subarea(\n",
       "        metadata,\n",
       "        CLASS_NAME,\n",
       "        EXEC_MIME_TYPE\n",
       "      );\n",
       "      this.keyboard_manager.register_events(toinsert);\n",
       "      // Render to node\n",
       "      var props = {data: data, metadata: metadata[EXEC_MIME_TYPE]};\n",
       "      render(props, toinsert[toinsert.length - 1]);\n",
       "      element.append(toinsert);\n",
       "      return toinsert\n",
       "    }\n",
       "\n",
       "    /* Handle when an output is cleared or removed */\n",
       "    events.on('clear_output.CodeCell', handleClearOutput);\n",
       "    events.on('delete.Cell', handleClearOutput);\n",
       "\n",
       "    /* Handle when a new output is added */\n",
       "    events.on('output_added.OutputArea', handleAddOutput);\n",
       "\n",
       "    /**\n",
       "     * Register the mime type and append_mime function with output_area\n",
       "     */\n",
       "    OutputArea.prototype.register_mime_type(EXEC_MIME_TYPE, append_mime, {\n",
       "      /* Is output safe? */\n",
       "      safe: true,\n",
       "      /* Index of renderer in `output_area.display_order` */\n",
       "      index: 0\n",
       "    });\n",
       "  }\n",
       "\n",
       "  // register the mime type if in Jupyter Notebook environment and previously unregistered\n",
       "  if (root.Jupyter !== undefined) {\n",
       "    var events = require('base/js/events');\n",
       "    var OutputArea = require('notebook/js/outputarea').OutputArea;\n",
       "\n",
       "    if (OutputArea.prototype.mime_types().indexOf(EXEC_MIME_TYPE) == -1) {\n",
       "      register_renderer(events, OutputArea);\n",
       "    }\n",
       "  }\n",
       "\n",
       "  \n",
       "  if (typeof (root._bokeh_timeout) === \"undefined\" || force === true) {\n",
       "    root._bokeh_timeout = Date.now() + 5000;\n",
       "    root._bokeh_failed_load = false;\n",
       "  }\n",
       "\n",
       "  var NB_LOAD_WARNING = {'data': {'text/html':\n",
       "     \"<div style='background-color: #fdd'>\\n\"+\n",
       "     \"<p>\\n\"+\n",
       "     \"BokehJS does not appear to have successfully loaded. If loading BokehJS from CDN, this \\n\"+\n",
       "     \"may be due to a slow or bad network connection. Possible fixes:\\n\"+\n",
       "     \"</p>\\n\"+\n",
       "     \"<ul>\\n\"+\n",
       "     \"<li>re-rerun `output_notebook()` to attempt to load from CDN again, or</li>\\n\"+\n",
       "     \"<li>use INLINE resources instead, as so:</li>\\n\"+\n",
       "     \"</ul>\\n\"+\n",
       "     \"<code>\\n\"+\n",
       "     \"from bokeh.resources import INLINE\\n\"+\n",
       "     \"output_notebook(resources=INLINE)\\n\"+\n",
       "     \"</code>\\n\"+\n",
       "     \"</div>\"}};\n",
       "\n",
       "  function display_loaded() {\n",
       "    var el = document.getElementById(\"1e840acc-af71-45d3-bf05-6fdf1cbdad34\");\n",
       "    if (el != null) {\n",
       "      el.textContent = \"BokehJS is loading...\";\n",
       "    }\n",
       "    if (root.Bokeh !== undefined) {\n",
       "      if (el != null) {\n",
       "        el.textContent = \"BokehJS \" + root.Bokeh.version + \" successfully loaded.\";\n",
       "      }\n",
       "    } else if (Date.now() < root._bokeh_timeout) {\n",
       "      setTimeout(display_loaded, 100)\n",
       "    }\n",
       "  }\n",
       "\n",
       "\n",
       "  function run_callbacks() {\n",
       "    try {\n",
       "      root._bokeh_onload_callbacks.forEach(function(callback) { callback() });\n",
       "    }\n",
       "    finally {\n",
       "      delete root._bokeh_onload_callbacks\n",
       "    }\n",
       "    console.info(\"Bokeh: all callbacks have finished\");\n",
       "  }\n",
       "\n",
       "  function load_libs(js_urls, callback) {\n",
       "    root._bokeh_onload_callbacks.push(callback);\n",
       "    if (root._bokeh_is_loading > 0) {\n",
       "      console.log(\"Bokeh: BokehJS is being loaded, scheduling callback at\", now());\n",
       "      return null;\n",
       "    }\n",
       "    if (js_urls == null || js_urls.length === 0) {\n",
       "      run_callbacks();\n",
       "      return null;\n",
       "    }\n",
       "    console.log(\"Bokeh: BokehJS not loaded, scheduling load and callback at\", now());\n",
       "    root._bokeh_is_loading = js_urls.length;\n",
       "    for (var i = 0; i < js_urls.length; i++) {\n",
       "      var url = js_urls[i];\n",
       "      var s = document.createElement('script');\n",
       "      s.src = url;\n",
       "      s.async = false;\n",
       "      s.onreadystatechange = s.onload = function() {\n",
       "        root._bokeh_is_loading--;\n",
       "        if (root._bokeh_is_loading === 0) {\n",
       "          console.log(\"Bokeh: all BokehJS libraries loaded\");\n",
       "          run_callbacks()\n",
       "        }\n",
       "      };\n",
       "      s.onerror = function() {\n",
       "        console.warn(\"failed to load library \" + url);\n",
       "      };\n",
       "      console.log(\"Bokeh: injecting script tag for BokehJS library: \", url);\n",
       "      document.getElementsByTagName(\"head\")[0].appendChild(s);\n",
       "    }\n",
       "  };var element = document.getElementById(\"1e840acc-af71-45d3-bf05-6fdf1cbdad34\");\n",
       "  if (element == null) {\n",
       "    console.log(\"Bokeh: ERROR: autoload.js configured with elementid '1e840acc-af71-45d3-bf05-6fdf1cbdad34' but no matching script tag was found. \")\n",
       "    return false;\n",
       "  }\n",
       "\n",
       "  var js_urls = [\"https://cdn.pydata.org/bokeh/release/bokeh-0.13.0.min.js\", \"https://cdn.pydata.org/bokeh/release/bokeh-widgets-0.13.0.min.js\", \"https://cdn.pydata.org/bokeh/release/bokeh-tables-0.13.0.min.js\", \"https://cdn.pydata.org/bokeh/release/bokeh-gl-0.13.0.min.js\"];\n",
       "\n",
       "  var inline_js = [\n",
       "    function(Bokeh) {\n",
       "      Bokeh.set_log_level(\"info\");\n",
       "    },\n",
       "    \n",
       "    function(Bokeh) {\n",
       "      \n",
       "    },\n",
       "    function(Bokeh) {\n",
       "      console.log(\"Bokeh: injecting CSS: https://cdn.pydata.org/bokeh/release/bokeh-0.13.0.min.css\");\n",
       "      Bokeh.embed.inject_css(\"https://cdn.pydata.org/bokeh/release/bokeh-0.13.0.min.css\");\n",
       "      console.log(\"Bokeh: injecting CSS: https://cdn.pydata.org/bokeh/release/bokeh-widgets-0.13.0.min.css\");\n",
       "      Bokeh.embed.inject_css(\"https://cdn.pydata.org/bokeh/release/bokeh-widgets-0.13.0.min.css\");\n",
       "      console.log(\"Bokeh: injecting CSS: https://cdn.pydata.org/bokeh/release/bokeh-tables-0.13.0.min.css\");\n",
       "      Bokeh.embed.inject_css(\"https://cdn.pydata.org/bokeh/release/bokeh-tables-0.13.0.min.css\");\n",
       "    }\n",
       "  ];\n",
       "\n",
       "  function run_inline_js() {\n",
       "    \n",
       "    if ((root.Bokeh !== undefined) || (force === true)) {\n",
       "      for (var i = 0; i < inline_js.length; i++) {\n",
       "        inline_js[i].call(root, root.Bokeh);\n",
       "      }if (force === true) {\n",
       "        display_loaded();\n",
       "      }} else if (Date.now() < root._bokeh_timeout) {\n",
       "      setTimeout(run_inline_js, 100);\n",
       "    } else if (!root._bokeh_failed_load) {\n",
       "      console.log(\"Bokeh: BokehJS failed to load within specified timeout.\");\n",
       "      root._bokeh_failed_load = true;\n",
       "    } else if (force !== true) {\n",
       "      var cell = $(document.getElementById(\"1e840acc-af71-45d3-bf05-6fdf1cbdad34\")).parents('.cell').data().cell;\n",
       "      cell.output_area.append_execute_result(NB_LOAD_WARNING)\n",
       "    }\n",
       "\n",
       "  }\n",
       "\n",
       "  if (root._bokeh_is_loading === 0) {\n",
       "    console.log(\"Bokeh: BokehJS loaded, going straight to plotting\");\n",
       "    run_inline_js();\n",
       "  } else {\n",
       "    load_libs(js_urls, function() {\n",
       "      console.log(\"Bokeh: BokehJS plotting callback run at\", now());\n",
       "      run_inline_js();\n",
       "    });\n",
       "  }\n",
       "}(window));"
      ],
      "application/vnd.bokehjs_load.v0+json": "\n(function(root) {\n  function now() {\n    return new Date();\n  }\n\n  var force = true;\n\n  if (typeof (root._bokeh_onload_callbacks) === \"undefined\" || force === true) {\n    root._bokeh_onload_callbacks = [];\n    root._bokeh_is_loading = undefined;\n  }\n\n  \n\n  \n  if (typeof (root._bokeh_timeout) === \"undefined\" || force === true) {\n    root._bokeh_timeout = Date.now() + 5000;\n    root._bokeh_failed_load = false;\n  }\n\n  var NB_LOAD_WARNING = {'data': {'text/html':\n     \"<div style='background-color: #fdd'>\\n\"+\n     \"<p>\\n\"+\n     \"BokehJS does not appear to have successfully loaded. If loading BokehJS from CDN, this \\n\"+\n     \"may be due to a slow or bad network connection. Possible fixes:\\n\"+\n     \"</p>\\n\"+\n     \"<ul>\\n\"+\n     \"<li>re-rerun `output_notebook()` to attempt to load from CDN again, or</li>\\n\"+\n     \"<li>use INLINE resources instead, as so:</li>\\n\"+\n     \"</ul>\\n\"+\n     \"<code>\\n\"+\n     \"from bokeh.resources import INLINE\\n\"+\n     \"output_notebook(resources=INLINE)\\n\"+\n     \"</code>\\n\"+\n     \"</div>\"}};\n\n  function display_loaded() {\n    var el = document.getElementById(\"1e840acc-af71-45d3-bf05-6fdf1cbdad34\");\n    if (el != null) {\n      el.textContent = \"BokehJS is loading...\";\n    }\n    if (root.Bokeh !== undefined) {\n      if (el != null) {\n        el.textContent = \"BokehJS \" + root.Bokeh.version + \" successfully loaded.\";\n      }\n    } else if (Date.now() < root._bokeh_timeout) {\n      setTimeout(display_loaded, 100)\n    }\n  }\n\n\n  function run_callbacks() {\n    try {\n      root._bokeh_onload_callbacks.forEach(function(callback) { callback() });\n    }\n    finally {\n      delete root._bokeh_onload_callbacks\n    }\n    console.info(\"Bokeh: all callbacks have finished\");\n  }\n\n  function load_libs(js_urls, callback) {\n    root._bokeh_onload_callbacks.push(callback);\n    if (root._bokeh_is_loading > 0) {\n      console.log(\"Bokeh: BokehJS is being loaded, scheduling callback at\", now());\n      return null;\n    }\n    if (js_urls == null || js_urls.length === 0) {\n      run_callbacks();\n      return null;\n    }\n    console.log(\"Bokeh: BokehJS not loaded, scheduling load and callback at\", now());\n    root._bokeh_is_loading = js_urls.length;\n    for (var i = 0; i < js_urls.length; i++) {\n      var url = js_urls[i];\n      var s = document.createElement('script');\n      s.src = url;\n      s.async = false;\n      s.onreadystatechange = s.onload = function() {\n        root._bokeh_is_loading--;\n        if (root._bokeh_is_loading === 0) {\n          console.log(\"Bokeh: all BokehJS libraries loaded\");\n          run_callbacks()\n        }\n      };\n      s.onerror = function() {\n        console.warn(\"failed to load library \" + url);\n      };\n      console.log(\"Bokeh: injecting script tag for BokehJS library: \", url);\n      document.getElementsByTagName(\"head\")[0].appendChild(s);\n    }\n  };var element = document.getElementById(\"1e840acc-af71-45d3-bf05-6fdf1cbdad34\");\n  if (element == null) {\n    console.log(\"Bokeh: ERROR: autoload.js configured with elementid '1e840acc-af71-45d3-bf05-6fdf1cbdad34' but no matching script tag was found. \")\n    return false;\n  }\n\n  var js_urls = [\"https://cdn.pydata.org/bokeh/release/bokeh-0.13.0.min.js\", \"https://cdn.pydata.org/bokeh/release/bokeh-widgets-0.13.0.min.js\", \"https://cdn.pydata.org/bokeh/release/bokeh-tables-0.13.0.min.js\", \"https://cdn.pydata.org/bokeh/release/bokeh-gl-0.13.0.min.js\"];\n\n  var inline_js = [\n    function(Bokeh) {\n      Bokeh.set_log_level(\"info\");\n    },\n    \n    function(Bokeh) {\n      \n    },\n    function(Bokeh) {\n      console.log(\"Bokeh: injecting CSS: https://cdn.pydata.org/bokeh/release/bokeh-0.13.0.min.css\");\n      Bokeh.embed.inject_css(\"https://cdn.pydata.org/bokeh/release/bokeh-0.13.0.min.css\");\n      console.log(\"Bokeh: injecting CSS: https://cdn.pydata.org/bokeh/release/bokeh-widgets-0.13.0.min.css\");\n      Bokeh.embed.inject_css(\"https://cdn.pydata.org/bokeh/release/bokeh-widgets-0.13.0.min.css\");\n      console.log(\"Bokeh: injecting CSS: https://cdn.pydata.org/bokeh/release/bokeh-tables-0.13.0.min.css\");\n      Bokeh.embed.inject_css(\"https://cdn.pydata.org/bokeh/release/bokeh-tables-0.13.0.min.css\");\n    }\n  ];\n\n  function run_inline_js() {\n    \n    if ((root.Bokeh !== undefined) || (force === true)) {\n      for (var i = 0; i < inline_js.length; i++) {\n        inline_js[i].call(root, root.Bokeh);\n      }if (force === true) {\n        display_loaded();\n      }} else if (Date.now() < root._bokeh_timeout) {\n      setTimeout(run_inline_js, 100);\n    } else if (!root._bokeh_failed_load) {\n      console.log(\"Bokeh: BokehJS failed to load within specified timeout.\");\n      root._bokeh_failed_load = true;\n    } else if (force !== true) {\n      var cell = $(document.getElementById(\"1e840acc-af71-45d3-bf05-6fdf1cbdad34\")).parents('.cell').data().cell;\n      cell.output_area.append_execute_result(NB_LOAD_WARNING)\n    }\n\n  }\n\n  if (root._bokeh_is_loading === 0) {\n    console.log(\"Bokeh: BokehJS loaded, going straight to plotting\");\n    run_inline_js();\n  } else {\n    load_libs(js_urls, function() {\n      console.log(\"Bokeh: BokehJS plotting callback run at\", now());\n      run_inline_js();\n    });\n  }\n}(window));"
     },
     "metadata": {},
     "output_type": "display_data"
    }
   ],
   "source": [
    "# Imports\n",
    "\n",
    "import time\n",
    "\n",
    "from bokeh.io import push_notebook, show, output_notebook\n",
    "from bokeh.layouts import gridplot, column\n",
    "from bokeh.models import Title\n",
    "from bokeh.plotting import figure \n",
    "\n",
    "import numpy as np\n",
    "from numpy import exp\n",
    "\n",
    "output_notebook()"
   ]
  },
  {
   "cell_type": "markdown",
   "metadata": {},
   "source": [
    "--------------\n",
    "\n",
    "# Visual Fourier Explanation\n",
    "\n",
    "--------------\n",
    "\n",
    "\n",
    "The Fourier transform and and its coefficients are integral to understanding signal processing, but can be hard to grasp initially.  Mark Owen did a fantastic job of explaining this in an intuitive light in the above book, and so I thought to explore his approach a bit here.  Most of these explanations draw directly from the above.\n",
    "\n",
    "Imagine taking snapshots (or samples) of motion in a circle.  This motion will have some period and frequency.  If we stack the snapshots in order of time, we see a spiral of motion through the time axis.  \n",
    "\n",
    "![image](./assets/fourier_raw_signal.JPG)\n",
    "\n",
    "To determine the frequency of motion, Mark suggests rotating the points backwards by tuning the frequency of rotation.  We rotate the points by multiplying each point by \n",
    "$$e^{i\\theta}$$\n",
    ", where $\\theta$ is defined as \n",
    "\n",
    "$$\\tau f $$ \n",
    "and f is the rotational frequency.  We vary the frequency and multiply the points by $e^{i\\theta}$ until the movie shows a straight line.  The frequency where we get a straight line (or point in 2-d) is the Fourier coefficient for the motion.\n",
    "\n",
    "![image](./assets/fourier_rotated_signal.JPG)"
   ]
  },
  {
   "cell_type": "markdown",
   "metadata": {},
   "source": [
    "## Constants"
   ]
  },
  {
   "cell_type": "code",
   "execution_count": 3,
   "metadata": {},
   "outputs": [],
   "source": [
    "# Number of samples to take of signal\n",
    "N = 16\n",
    "\n",
    "# tau >> pi\n",
    "tau = 2 * np.pi  \n",
    "\n",
    "# Take one revolution and split into N samples\n",
    "theta = tau * np.linspace(0, 1, N + 1)[:-1]"
   ]
  },
  {
   "cell_type": "markdown",
   "metadata": {},
   "source": [
    "## Helpers"
   ]
  },
  {
   "cell_type": "code",
   "execution_count": 4,
   "metadata": {},
   "outputs": [],
   "source": [
    "def make_points(f, r, theta):\n",
    "    '''\n",
    "    Makes points around a circle of radius r, rotating at frequency f\n",
    "    We choose integer values of f only, to keep the rotations complete \n",
    "    and reducing frequency searches to integers only\n",
    "    '''\n",
    "    assert type(f) == int\n",
    "    return r * exp(1j * f * theta)\n",
    "\n",
    "\n",
    "def rotate_points(points, f, N):\n",
    "    '''\n",
    "    Rotate each point by -tau * f + the rotation of the last point\n",
    "    '''\n",
    "    points_rot = []\n",
    "    for k, point in enumerate(points):\n",
    "        theta = - tau * f * k / N \n",
    "        points_rot.append(point * exp(1j * theta))\n",
    "    # rounding is for plotting\n",
    "    return np.round(np.array(points_rot), 6)\n",
    "\n",
    "\n",
    "def plot_points(points):\n",
    "    '''\n",
    "    Show (complex) points\n",
    "    '''\n",
    "    wid = 250\n",
    "    p = figure(width=wid, height=wid)\n",
    "    x, y = points.real, points.imag\n",
    "    r = p.circle(x, y) \n",
    "    show(p)"
   ]
  },
  {
   "cell_type": "markdown",
   "metadata": {},
   "source": [
    "Note we are working in the complex plane to make the math simpler, so in the above points, the x value is the real portion of each point and the y value is the complex one.\n",
    "\n",
    "Lets take an example of frequency 3, radius 1 to plot points around a circle, and then see if we can find the frequency using the approach outlined above."
   ]
  },
  {
   "cell_type": "code",
   "execution_count": 5,
   "metadata": {},
   "outputs": [
    {
     "data": {
      "text/html": [
       "\n",
       "\n",
       "\n",
       "\n",
       "\n",
       "\n",
       "  <div class=\"bk-root\" id=\"8921f5e4-b99c-4579-b9d1-9b7c29a4b7c2\"></div>\n"
      ]
     },
     "metadata": {},
     "output_type": "display_data"
    },
    {
     "data": {
      "application/javascript": [
       "(function(root) {\n",
       "  function embed_document(root) {\n",
       "    \n",
       "  var docs_json = {\"5b6bae29-b818-4934-8c09-20039f6c6369\":{\"roots\":{\"references\":[{\"attributes\":{\"bottom_units\":\"screen\",\"fill_alpha\":{\"value\":0.5},\"fill_color\":{\"value\":\"lightgrey\"},\"left_units\":\"screen\",\"level\":\"overlay\",\"line_alpha\":{\"value\":1.0},\"line_color\":{\"value\":\"black\"},\"line_dash\":[4,4],\"line_width\":{\"value\":2},\"plot\":null,\"render_mode\":\"css\",\"right_units\":\"screen\",\"top_units\":\"screen\"},\"id\":\"b09c8de2-b507-4778-b37e-df923bafc56a\",\"type\":\"BoxAnnotation\"},{\"attributes\":{\"source\":{\"id\":\"2b0c91eb-8066-4707-8a04-b75618f31624\",\"type\":\"ColumnDataSource\"}},\"id\":\"d0e6d293-1f4a-48a7-91b7-150ac117aff5\",\"type\":\"CDSView\"},{\"attributes\":{},\"id\":\"e09b76dc-dd57-41fb-ae41-75c16714a081\",\"type\":\"LinearScale\"},{\"attributes\":{},\"id\":\"af979de0-361a-47ad-b968-881a694c5d0f\",\"type\":\"HelpTool\"},{\"attributes\":{},\"id\":\"344e5f04-32bd-4e80-956f-a31d7f27d37f\",\"type\":\"WheelZoomTool\"},{\"attributes\":{},\"id\":\"6d5a8781-23f6-4600-9ca4-f6779ed391fa\",\"type\":\"Selection\"},{\"attributes\":{},\"id\":\"06ef095d-de84-4dbd-9c04-8ae64a2f1d94\",\"type\":\"ResetTool\"},{\"attributes\":{\"fill_color\":{\"value\":\"#1f77b4\"},\"line_color\":{\"value\":\"#1f77b4\"},\"x\":{\"field\":\"x\"},\"y\":{\"field\":\"y\"}},\"id\":\"3835b9da-86cb-412f-8aac-fe30d8b88b80\",\"type\":\"Circle\"},{\"attributes\":{},\"id\":\"10e1b870-2e7f-4d11-b409-f3d13a0cf762\",\"type\":\"BasicTickFormatter\"},{\"attributes\":{\"fill_alpha\":{\"value\":0.1},\"fill_color\":{\"value\":\"#1f77b4\"},\"line_alpha\":{\"value\":0.1},\"line_color\":{\"value\":\"#1f77b4\"},\"x\":{\"field\":\"x\"},\"y\":{\"field\":\"y\"}},\"id\":\"90d72f75-70dc-48f4-a2fb-ee0dc4334262\",\"type\":\"Circle\"},{\"attributes\":{},\"id\":\"c0a9905a-6857-41e3-807c-ddf99d98517e\",\"type\":\"SaveTool\"},{\"attributes\":{},\"id\":\"836cbb8a-6f87-423b-a8f6-a1b39b5824b1\",\"type\":\"BasicTickFormatter\"},{\"attributes\":{},\"id\":\"edc65186-2edc-4b3e-aa53-14a0945c473b\",\"type\":\"BasicTicker\"},{\"attributes\":{\"overlay\":{\"id\":\"b09c8de2-b507-4778-b37e-df923bafc56a\",\"type\":\"BoxAnnotation\"}},\"id\":\"4c3b8bd7-ef15-48b9-a7d9-7ddd2a5588a8\",\"type\":\"BoxZoomTool\"},{\"attributes\":{\"formatter\":{\"id\":\"836cbb8a-6f87-423b-a8f6-a1b39b5824b1\",\"type\":\"BasicTickFormatter\"},\"plot\":{\"id\":\"567b1427-433e-4d25-823f-4eff5ad4e4d3\",\"subtype\":\"Figure\",\"type\":\"Plot\"},\"ticker\":{\"id\":\"c145d94c-eda8-485e-bd1b-ff33843c34f5\",\"type\":\"BasicTicker\"}},\"id\":\"57dba761-6f18-4993-b7ef-9697378fb09e\",\"type\":\"LinearAxis\"},{\"attributes\":{},\"id\":\"d3200a06-32df-4739-9869-97efe4833393\",\"type\":\"LinearScale\"},{\"attributes\":{\"dimension\":1,\"plot\":{\"id\":\"567b1427-433e-4d25-823f-4eff5ad4e4d3\",\"subtype\":\"Figure\",\"type\":\"Plot\"},\"ticker\":{\"id\":\"c145d94c-eda8-485e-bd1b-ff33843c34f5\",\"type\":\"BasicTicker\"}},\"id\":\"5043a04c-a3b3-4d6c-85f7-56dcff4f974e\",\"type\":\"Grid\"},{\"attributes\":{},\"id\":\"c145d94c-eda8-485e-bd1b-ff33843c34f5\",\"type\":\"BasicTicker\"},{\"attributes\":{\"plot\":{\"id\":\"567b1427-433e-4d25-823f-4eff5ad4e4d3\",\"subtype\":\"Figure\",\"type\":\"Plot\"},\"ticker\":{\"id\":\"edc65186-2edc-4b3e-aa53-14a0945c473b\",\"type\":\"BasicTicker\"}},\"id\":\"4cf1672a-723c-4426-8f20-f1a6d3d4436d\",\"type\":\"Grid\"},{\"attributes\":{\"callback\":null},\"id\":\"d22152b9-9dec-424c-a8b5-7064212275d9\",\"type\":\"DataRange1d\"},{\"attributes\":{\"formatter\":{\"id\":\"10e1b870-2e7f-4d11-b409-f3d13a0cf762\",\"type\":\"BasicTickFormatter\"},\"plot\":{\"id\":\"567b1427-433e-4d25-823f-4eff5ad4e4d3\",\"subtype\":\"Figure\",\"type\":\"Plot\"},\"ticker\":{\"id\":\"edc65186-2edc-4b3e-aa53-14a0945c473b\",\"type\":\"BasicTicker\"}},\"id\":\"212d5f23-96cb-424a-a29e-ca951cba8207\",\"type\":\"LinearAxis\"},{\"attributes\":{\"data_source\":{\"id\":\"2b0c91eb-8066-4707-8a04-b75618f31624\",\"type\":\"ColumnDataSource\"},\"glyph\":{\"id\":\"3835b9da-86cb-412f-8aac-fe30d8b88b80\",\"type\":\"Circle\"},\"hover_glyph\":null,\"muted_glyph\":null,\"nonselection_glyph\":{\"id\":\"90d72f75-70dc-48f4-a2fb-ee0dc4334262\",\"type\":\"Circle\"},\"selection_glyph\":null,\"view\":{\"id\":\"d0e6d293-1f4a-48a7-91b7-150ac117aff5\",\"type\":\"CDSView\"}},\"id\":\"de3094e1-0fe2-4d0a-bd57-399e667bb7ba\",\"type\":\"GlyphRenderer\"},{\"attributes\":{\"callback\":null,\"data\":{\"x\":{\"__ndarray__\":\"AAAAAAAA8D9kqa6m4n3YP8w7f2aeoOa/R40yz2uQ7b8Kip5MOXmqvESNMs9rkO0/zjt/Zp6g5j9lqa6m4n3YvwAAAAAAAPC/camupuJ92L/EO39mnqDmP0yNMs9rkO0/iOd2+erawzxJjTLPa5Dtv8s7f2aeoOa/JKmupuJ92D8=\",\"dtype\":\"float64\",\"shape\":[16]},\"y\":{\"__ndarray__\":\"AAAAAAAAAABGjTLPa5DtP807f2aeoOY/YamupuJ92L8AAAAAAADwv26prqbifdi/yzt/Zp6g5j9GjTLPa5DtPwqKnkw5ebo8Q40yz2uQ7b/VO39mnqDmv0Sprqbifdg/AAAAAAAA8D9Xqa6m4n3YP847f2aeoOa/U40yz2uQ7b8=\",\"dtype\":\"float64\",\"shape\":[16]}},\"selected\":{\"id\":\"6d5a8781-23f6-4600-9ca4-f6779ed391fa\",\"type\":\"Selection\"},\"selection_policy\":{\"id\":\"4ed8a758-9e9f-4d62-b3c6-61c3a543342c\",\"type\":\"UnionRenderers\"}},\"id\":\"2b0c91eb-8066-4707-8a04-b75618f31624\",\"type\":\"ColumnDataSource\"},{\"attributes\":{},\"id\":\"4ed8a758-9e9f-4d62-b3c6-61c3a543342c\",\"type\":\"UnionRenderers\"},{\"attributes\":{\"plot\":null,\"text\":\"\"},\"id\":\"c184cb29-b07f-4138-b3e4-98b167122fd8\",\"type\":\"Title\"},{\"attributes\":{\"below\":[{\"id\":\"212d5f23-96cb-424a-a29e-ca951cba8207\",\"type\":\"LinearAxis\"}],\"left\":[{\"id\":\"57dba761-6f18-4993-b7ef-9697378fb09e\",\"type\":\"LinearAxis\"}],\"plot_height\":250,\"plot_width\":250,\"renderers\":[{\"id\":\"212d5f23-96cb-424a-a29e-ca951cba8207\",\"type\":\"LinearAxis\"},{\"id\":\"4cf1672a-723c-4426-8f20-f1a6d3d4436d\",\"type\":\"Grid\"},{\"id\":\"57dba761-6f18-4993-b7ef-9697378fb09e\",\"type\":\"LinearAxis\"},{\"id\":\"5043a04c-a3b3-4d6c-85f7-56dcff4f974e\",\"type\":\"Grid\"},{\"id\":\"b09c8de2-b507-4778-b37e-df923bafc56a\",\"type\":\"BoxAnnotation\"},{\"id\":\"de3094e1-0fe2-4d0a-bd57-399e667bb7ba\",\"type\":\"GlyphRenderer\"}],\"title\":{\"id\":\"c184cb29-b07f-4138-b3e4-98b167122fd8\",\"type\":\"Title\"},\"toolbar\":{\"id\":\"2ca49e8d-59a1-436f-ab7e-ceb7d0c22b1d\",\"type\":\"Toolbar\"},\"x_range\":{\"id\":\"d22152b9-9dec-424c-a8b5-7064212275d9\",\"type\":\"DataRange1d\"},\"x_scale\":{\"id\":\"e09b76dc-dd57-41fb-ae41-75c16714a081\",\"type\":\"LinearScale\"},\"y_range\":{\"id\":\"a277276f-ed38-4aab-94b5-b15b26e86029\",\"type\":\"DataRange1d\"},\"y_scale\":{\"id\":\"d3200a06-32df-4739-9869-97efe4833393\",\"type\":\"LinearScale\"}},\"id\":\"567b1427-433e-4d25-823f-4eff5ad4e4d3\",\"subtype\":\"Figure\",\"type\":\"Plot\"},{\"attributes\":{\"active_drag\":\"auto\",\"active_inspect\":\"auto\",\"active_multi\":null,\"active_scroll\":\"auto\",\"active_tap\":\"auto\",\"tools\":[{\"id\":\"eabcc53e-08d0-41d5-bc35-e2e94553b014\",\"type\":\"PanTool\"},{\"id\":\"344e5f04-32bd-4e80-956f-a31d7f27d37f\",\"type\":\"WheelZoomTool\"},{\"id\":\"4c3b8bd7-ef15-48b9-a7d9-7ddd2a5588a8\",\"type\":\"BoxZoomTool\"},{\"id\":\"c0a9905a-6857-41e3-807c-ddf99d98517e\",\"type\":\"SaveTool\"},{\"id\":\"06ef095d-de84-4dbd-9c04-8ae64a2f1d94\",\"type\":\"ResetTool\"},{\"id\":\"af979de0-361a-47ad-b968-881a694c5d0f\",\"type\":\"HelpTool\"}]},\"id\":\"2ca49e8d-59a1-436f-ab7e-ceb7d0c22b1d\",\"type\":\"Toolbar\"},{\"attributes\":{\"callback\":null},\"id\":\"a277276f-ed38-4aab-94b5-b15b26e86029\",\"type\":\"DataRange1d\"},{\"attributes\":{},\"id\":\"eabcc53e-08d0-41d5-bc35-e2e94553b014\",\"type\":\"PanTool\"}],\"root_ids\":[\"567b1427-433e-4d25-823f-4eff5ad4e4d3\"]},\"title\":\"Bokeh Application\",\"version\":\"0.13.0\"}};\n",
       "  var render_items = [{\"docid\":\"5b6bae29-b818-4934-8c09-20039f6c6369\",\"roots\":{\"567b1427-433e-4d25-823f-4eff5ad4e4d3\":\"8921f5e4-b99c-4579-b9d1-9b7c29a4b7c2\"}}];\n",
       "  root.Bokeh.embed.embed_items_notebook(docs_json, render_items);\n",
       "\n",
       "  }\n",
       "  if (root.Bokeh !== undefined) {\n",
       "    embed_document(root);\n",
       "  } else {\n",
       "    var attempts = 0;\n",
       "    var timer = setInterval(function(root) {\n",
       "      if (root.Bokeh !== undefined) {\n",
       "        embed_document(root);\n",
       "        clearInterval(timer);\n",
       "      }\n",
       "      attempts++;\n",
       "      if (attempts > 100) {\n",
       "        console.log(\"Bokeh: ERROR: Unable to run BokehJS code because BokehJS library is missing\")\n",
       "        clearInterval(timer);\n",
       "      }\n",
       "    }, 10, root)\n",
       "  }\n",
       "})(window);"
      ],
      "application/vnd.bokehjs_exec.v0+json": ""
     },
     "metadata": {
      "application/vnd.bokehjs_exec.v0+json": {
       "id": "567b1427-433e-4d25-823f-4eff5ad4e4d3"
      }
     },
     "output_type": "display_data"
    }
   ],
   "source": [
    "f = 3\n",
    "r = 1\n",
    "points = make_points(f, r, theta)\n",
    "\n",
    "plot_points(points)"
   ]
  },
  {
   "cell_type": "markdown",
   "metadata": {},
   "source": [
    "Now lets rotate each of the frames of the points by $-\\theta$ * the index of the point over total points"
   ]
  },
  {
   "cell_type": "code",
   "execution_count": 6,
   "metadata": {
    "scrolled": false
   },
   "outputs": [
    {
     "data": {
      "text/html": [
       "\n",
       "\n",
       "\n",
       "\n",
       "\n",
       "\n",
       "  <div class=\"bk-root\" id=\"32affa3e-6d1e-42ea-b37c-1030c1313732\"></div>\n"
      ]
     },
     "metadata": {},
     "output_type": "display_data"
    },
    {
     "data": {
      "application/javascript": [
       "(function(root) {\n",
       "  function embed_document(root) {\n",
       "    \n",
       "  var docs_json = {\"0cf8df8a-d098-464a-b917-b71563b1ea8e\":{\"roots\":{\"references\":[{\"attributes\":{},\"id\":\"361a7dfd-273f-407d-a9fd-90b60628a821\",\"type\":\"BasicTickFormatter\"},{\"attributes\":{\"fill_alpha\":{\"value\":0.1},\"fill_color\":{\"value\":\"#1f77b4\"},\"line_alpha\":{\"value\":0.1},\"line_color\":{\"value\":\"#1f77b4\"},\"x\":{\"field\":\"x\"},\"y\":{\"field\":\"y\"}},\"id\":\"cdddfb51-e071-4d14-9b2b-df673ca7f176\",\"type\":\"Circle\"},{\"attributes\":{},\"id\":\"ddd7baf5-8503-4fd6-bab5-5fd010c95693\",\"type\":\"HelpTool\"},{\"attributes\":{},\"id\":\"c4190ce0-1dc5-42df-ace8-59c19863d212\",\"type\":\"Selection\"},{\"attributes\":{\"plot\":{\"id\":\"0d739315-b131-4309-baf5-db003308b79d\",\"subtype\":\"Figure\",\"type\":\"Plot\"},\"ticker\":{\"id\":\"a2cab1e4-131f-4a89-9663-2fe5f1902501\",\"type\":\"BasicTicker\"}},\"id\":\"b35d7c82-aa8d-4088-b7f3-de01525f9bca\",\"type\":\"Grid\"},{\"attributes\":{},\"id\":\"6a293336-d9d7-47cd-a869-f433da5c88b9\",\"type\":\"BasicTickFormatter\"},{\"attributes\":{\"callback\":null,\"data\":{\"x\":{\"__ndarray__\":\"AAAAAAAA8D8cti3KbJDtP7u5+NueoOY//gxv1uB92D8AAAAAAAAAAP4Mb9bgfdi/u7n4256g5r8cti3KbJDtvwAAAAAAAPC/HLYtymyQ7b+7ufjbnqDmv/4Mb9bgfdi/AAAAAAAAAID+DG/W4H3YP7u5+NueoOY/HLYtymyQ7T8=\",\"dtype\":\"float64\",\"shape\":[16]},\"y\":{\"__ndarray__\":\"AAAAAAAAAAD+DG/W4H3YP7u5+NueoOY/HLYtymyQ7T8AAAAAAADwPxy2LcpskO0/u7n4256g5j/+DG/W4H3YPwAAAAAAAAAA/gxv1uB92L+7ufjbnqDmvxy2LcpskO2/AAAAAAAA8L8cti3KbJDtv7u5+NueoOa//gxv1uB92L8=\",\"dtype\":\"float64\",\"shape\":[16]}},\"selected\":{\"id\":\"c594f47c-9a34-4865-9c9e-1f699988c86f\",\"type\":\"Selection\"},\"selection_policy\":{\"id\":\"27f1dcdf-8c68-4079-b07e-291c9e78215a\",\"type\":\"UnionRenderers\"}},\"id\":\"746ddb13-9cf1-4c98-bd65-65b870eea78a\",\"type\":\"ColumnDataSource\"},{\"attributes\":{\"align\":\"center\",\"plot\":{\"id\":\"dc70b823-d3a9-4b48-82ed-bc1045205dfd\",\"subtype\":\"Figure\",\"type\":\"Plot\"},\"text\":\"Centroid: (0.0, 0.0)\"},\"id\":\"08f26ca4-512a-4d38-9ac5-0d7169e13f99\",\"type\":\"Title\"},{\"attributes\":{\"formatter\":{\"id\":\"f3c35d38-e59a-405a-ad0c-0de857dc6b9b\",\"type\":\"BasicTickFormatter\"},\"plot\":{\"id\":\"0d739315-b131-4309-baf5-db003308b79d\",\"subtype\":\"Figure\",\"type\":\"Plot\"},\"ticker\":{\"id\":\"a2cab1e4-131f-4a89-9663-2fe5f1902501\",\"type\":\"BasicTicker\"}},\"id\":\"f0525d14-4863-4c4b-8d3c-38d7a21f6307\",\"type\":\"LinearAxis\"},{\"attributes\":{},\"id\":\"c594f47c-9a34-4865-9c9e-1f699988c86f\",\"type\":\"Selection\"},{\"attributes\":{\"bottom_units\":\"screen\",\"fill_alpha\":{\"value\":0.5},\"fill_color\":{\"value\":\"lightgrey\"},\"left_units\":\"screen\",\"level\":\"overlay\",\"line_alpha\":{\"value\":1.0},\"line_color\":{\"value\":\"black\"},\"line_dash\":[4,4],\"line_width\":{\"value\":2},\"plot\":null,\"render_mode\":\"css\",\"right_units\":\"screen\",\"top_units\":\"screen\"},\"id\":\"d8fad13b-7245-4f47-9ac3-47833694fc40\",\"type\":\"BoxAnnotation\"},{\"attributes\":{},\"id\":\"a2cab1e4-131f-4a89-9663-2fe5f1902501\",\"type\":\"BasicTicker\"},{\"attributes\":{},\"id\":\"51b8597f-03d3-42ea-b681-7d8d3d3fa326\",\"type\":\"UnionRenderers\"},{\"attributes\":{\"formatter\":{\"id\":\"7ec8ca57-fd06-4ba1-b3f2-e46eb8a815fc\",\"type\":\"BasicTickFormatter\"},\"plot\":{\"id\":\"0d739315-b131-4309-baf5-db003308b79d\",\"subtype\":\"Figure\",\"type\":\"Plot\"},\"ticker\":{\"id\":\"56a841c4-ad66-4c9d-b0ec-ae5585641ab0\",\"type\":\"BasicTicker\"}},\"id\":\"eebf6b88-ca18-4d8b-94e2-bb90671526d2\",\"type\":\"LinearAxis\"},{\"attributes\":{},\"id\":\"f3c35d38-e59a-405a-ad0c-0de857dc6b9b\",\"type\":\"BasicTickFormatter\"},{\"attributes\":{},\"id\":\"56a841c4-ad66-4c9d-b0ec-ae5585641ab0\",\"type\":\"BasicTicker\"},{\"attributes\":{},\"id\":\"7ec8ca57-fd06-4ba1-b3f2-e46eb8a815fc\",\"type\":\"BasicTickFormatter\"},{\"attributes\":{\"dimension\":1,\"plot\":{\"id\":\"0d739315-b131-4309-baf5-db003308b79d\",\"subtype\":\"Figure\",\"type\":\"Plot\"},\"ticker\":{\"id\":\"56a841c4-ad66-4c9d-b0ec-ae5585641ab0\",\"type\":\"BasicTicker\"}},\"id\":\"3df5f7c6-8e86-4443-a4d8-f52f59b1c763\",\"type\":\"Grid\"},{\"attributes\":{},\"id\":\"8ac56746-f7a1-4eac-8b24-eeb707a9d4c2\",\"type\":\"BasicTickFormatter\"},{\"attributes\":{\"data_source\":{\"id\":\"746ddb13-9cf1-4c98-bd65-65b870eea78a\",\"type\":\"ColumnDataSource\"},\"glyph\":{\"id\":\"bdc8bd4d-7a6f-41ca-9c9f-cfbfce75ab5f\",\"type\":\"Circle\"},\"hover_glyph\":null,\"muted_glyph\":null,\"nonselection_glyph\":{\"id\":\"cdddfb51-e071-4d14-9b2b-df673ca7f176\",\"type\":\"Circle\"},\"selection_glyph\":null,\"view\":{\"id\":\"5e539d92-d531-42e7-9b48-8d19b50209e9\",\"type\":\"CDSView\"}},\"id\":\"9563b7f2-8386-4880-9a48-0a0e3cc6116e\",\"type\":\"GlyphRenderer\"},{\"attributes\":{},\"id\":\"27f1dcdf-8c68-4079-b07e-291c9e78215a\",\"type\":\"UnionRenderers\"},{\"attributes\":{\"fill_color\":{\"value\":\"#1f77b4\"},\"line_color\":{\"value\":\"#1f77b4\"},\"x\":{\"field\":\"x\"},\"y\":{\"field\":\"y\"}},\"id\":\"bdc8bd4d-7a6f-41ca-9c9f-cfbfce75ab5f\",\"type\":\"Circle\"},{\"attributes\":{},\"id\":\"74a9fb67-d8e4-473a-af78-0d5653be45db\",\"type\":\"BasicTickFormatter\"},{\"attributes\":{\"children\":[{\"id\":\"589d34f1-6c0e-4d9d-b6b0-931f0e01f436\",\"subtype\":\"Figure\",\"type\":\"Plot\"},{\"id\":\"c12c04f9-9f6d-4759-841c-0ed5dd61c5e6\",\"subtype\":\"Figure\",\"type\":\"Plot\"}]},\"id\":\"6df1f1ef-5c5c-4d61-a17d-a6cb8400a453\",\"type\":\"Row\"},{\"attributes\":{\"align\":\"center\",\"plot\":{\"id\":\"0d739315-b131-4309-baf5-db003308b79d\",\"subtype\":\"Figure\",\"type\":\"Plot\"},\"text\":\"Centroid: (0.0, 0.0)\"},\"id\":\"0e7590d8-a015-4ed9-8af7-93ce735180ce\",\"type\":\"Title\"},{\"attributes\":{\"data_source\":{\"id\":\"f37847cd-2700-4c09-8abf-eeee41a39d74\",\"type\":\"ColumnDataSource\"},\"glyph\":{\"id\":\"13729bf2-6914-4a3b-b79b-d5ef184a2bcf\",\"type\":\"Circle\"},\"hover_glyph\":null,\"muted_glyph\":null,\"nonselection_glyph\":{\"id\":\"de313940-1c5e-4482-8615-9d7e9a07483e\",\"type\":\"Circle\"},\"selection_glyph\":null,\"view\":{\"id\":\"0eed844f-5269-44f4-b735-3a5e4d5c3885\",\"type\":\"CDSView\"}},\"id\":\"1b27aed0-fabc-432c-9c63-f439f9f878b9\",\"type\":\"GlyphRenderer\"},{\"attributes\":{},\"id\":\"697b5e96-04d3-492b-a8f3-8a8d9ae93abe\",\"type\":\"Selection\"},{\"attributes\":{},\"id\":\"e7e785ca-fc99-4352-995e-0e79dc8e2658\",\"type\":\"PanTool\"},{\"attributes\":{},\"id\":\"9eed7bfb-df76-4995-96b9-e0ece47f083b\",\"type\":\"Selection\"},{\"attributes\":{\"source\":{\"id\":\"746ddb13-9cf1-4c98-bd65-65b870eea78a\",\"type\":\"ColumnDataSource\"}},\"id\":\"5e539d92-d531-42e7-9b48-8d19b50209e9\",\"type\":\"CDSView\"},{\"attributes\":{},\"id\":\"250cba85-7d79-4edb-a686-77897bf889e4\",\"type\":\"UnionRenderers\"},{\"attributes\":{},\"id\":\"6fe41612-aecb-49c5-9415-8fd55a35014e\",\"type\":\"WheelZoomTool\"},{\"attributes\":{},\"id\":\"02654b19-8395-475e-8ca1-f5e1b1e286da\",\"type\":\"BasicTickFormatter\"},{\"attributes\":{\"overlay\":{\"id\":\"ae1189cb-2b09-405b-8e57-86a55a5c84bd\",\"type\":\"BoxAnnotation\"}},\"id\":\"dc211e22-ac9d-47e0-9495-a96e2e583e21\",\"type\":\"BoxZoomTool\"},{\"attributes\":{},\"id\":\"5aea7247-9661-428e-82af-22d239faa5f0\",\"type\":\"BasicTickFormatter\"},{\"attributes\":{},\"id\":\"f54197f8-0b9c-4a39-89d1-98fbb86f143d\",\"type\":\"SaveTool\"},{\"attributes\":{\"toolbar\":{\"id\":\"32cbf214-f267-4051-b6cd-81ed9972e242\",\"type\":\"ProxyToolbar\"},\"toolbar_location\":\"above\"},\"id\":\"9628aca0-b319-4915-9814-e621ca8627c4\",\"type\":\"ToolbarBox\"},{\"attributes\":{},\"id\":\"1d5b9a7a-dcdf-4123-9296-bde4cb12ed31\",\"type\":\"ResetTool\"},{\"attributes\":{},\"id\":\"65d3d598-519d-496d-8172-ba5120f69321\",\"type\":\"UnionRenderers\"},{\"attributes\":{\"tools\":[{\"id\":\"476f06ff-507f-4b32-8f98-208234ce14d9\",\"type\":\"PanTool\"},{\"id\":\"490734e8-7d02-4817-a993-84d9f84ca1cb\",\"type\":\"WheelZoomTool\"},{\"id\":\"cc571472-a29c-474b-b63f-f85d7ff6e05a\",\"type\":\"BoxZoomTool\"},{\"id\":\"5a538b93-e744-4b54-849f-f8a2c021267e\",\"type\":\"SaveTool\"},{\"id\":\"a7246536-84c7-4fc3-87c4-18cffe0805bc\",\"type\":\"ResetTool\"},{\"id\":\"ddd7baf5-8503-4fd6-bab5-5fd010c95693\",\"type\":\"HelpTool\"},{\"id\":\"e7e785ca-fc99-4352-995e-0e79dc8e2658\",\"type\":\"PanTool\"},{\"id\":\"6fe41612-aecb-49c5-9415-8fd55a35014e\",\"type\":\"WheelZoomTool\"},{\"id\":\"dc211e22-ac9d-47e0-9495-a96e2e583e21\",\"type\":\"BoxZoomTool\"},{\"id\":\"f54197f8-0b9c-4a39-89d1-98fbb86f143d\",\"type\":\"SaveTool\"},{\"id\":\"1d5b9a7a-dcdf-4123-9296-bde4cb12ed31\",\"type\":\"ResetTool\"},{\"id\":\"9e32f659-f076-45e0-b1fd-871f7f1ac103\",\"type\":\"HelpTool\"},{\"id\":\"7f69ee92-42d6-4595-be01-9771eb55cc92\",\"type\":\"PanTool\"},{\"id\":\"8afe2ca2-cbae-4e7a-a789-6d1f55f77d2a\",\"type\":\"WheelZoomTool\"},{\"id\":\"316e4111-06a2-4282-b9f0-16e3c617c618\",\"type\":\"BoxZoomTool\"},{\"id\":\"37f98bf5-efe5-48c0-b898-366e20d51ed5\",\"type\":\"SaveTool\"},{\"id\":\"2086391f-967b-4685-8666-ede9b7db46bb\",\"type\":\"ResetTool\"},{\"id\":\"648af6c8-41cc-4cc0-8e80-1372302f5f0d\",\"type\":\"HelpTool\"},{\"id\":\"2545090f-4822-4e41-99bf-15fefbbe135c\",\"type\":\"PanTool\"},{\"id\":\"620f7a82-0b84-4578-b9d3-6e858d86265b\",\"type\":\"WheelZoomTool\"},{\"id\":\"4866e4a4-6189-456b-a1d1-b8229173ec0b\",\"type\":\"BoxZoomTool\"},{\"id\":\"c790786c-6bad-4b20-945a-f936b7df2789\",\"type\":\"SaveTool\"},{\"id\":\"b0878641-b00d-4aa4-899e-9221c9ee4bd8\",\"type\":\"ResetTool\"},{\"id\":\"88c7f558-79f5-4be9-96f0-8bb1437af860\",\"type\":\"HelpTool\"}]},\"id\":\"32cbf214-f267-4051-b6cd-81ed9972e242\",\"type\":\"ProxyToolbar\"},{\"attributes\":{},\"id\":\"490734e8-7d02-4817-a993-84d9f84ca1cb\",\"type\":\"WheelZoomTool\"},{\"attributes\":{\"overlay\":{\"id\":\"a276235c-b394-4b9f-9725-2cd547b3cb7f\",\"type\":\"BoxAnnotation\"}},\"id\":\"cc571472-a29c-474b-b63f-f85d7ff6e05a\",\"type\":\"BoxZoomTool\"},{\"attributes\":{\"bottom_units\":\"screen\",\"fill_alpha\":{\"value\":0.5},\"fill_color\":{\"value\":\"lightgrey\"},\"left_units\":\"screen\",\"level\":\"overlay\",\"line_alpha\":{\"value\":1.0},\"line_color\":{\"value\":\"black\"},\"line_dash\":[4,4],\"line_width\":{\"value\":2},\"plot\":null,\"render_mode\":\"css\",\"right_units\":\"screen\",\"top_units\":\"screen\"},\"id\":\"ae1189cb-2b09-405b-8e57-86a55a5c84bd\",\"type\":\"BoxAnnotation\"},{\"attributes\":{\"children\":[{\"id\":\"9628aca0-b319-4915-9814-e621ca8627c4\",\"type\":\"ToolbarBox\"},{\"id\":\"7610a2b3-b3d8-4f7f-852d-6f759e44d1fb\",\"type\":\"Column\"}]},\"id\":\"90e89b50-fd61-4c9c-ba67-3714e89d16ea\",\"type\":\"Column\"},{\"attributes\":{},\"id\":\"a7246536-84c7-4fc3-87c4-18cffe0805bc\",\"type\":\"ResetTool\"},{\"attributes\":{\"callback\":null,\"end\":1.5,\"start\":-1.5},\"id\":\"7b156019-525b-4939-89d7-d5ed975f3b58\",\"type\":\"Range1d\"},{\"attributes\":{\"below\":[{\"id\":\"17e0b61e-5305-49ef-96c3-6ea1a6a448b8\",\"type\":\"LinearAxis\"}],\"left\":[{\"id\":\"381d6783-6f8c-4184-ae3d-a8a816b901fb\",\"type\":\"LinearAxis\"},{\"id\":\"71d89a8a-e168-4ce6-94e8-180b97c98135\",\"type\":\"Title\"}],\"plot_height\":250,\"plot_width\":250,\"renderers\":[{\"id\":\"17e0b61e-5305-49ef-96c3-6ea1a6a448b8\",\"type\":\"LinearAxis\"},{\"id\":\"372ca5b4-4318-4408-992e-2d6ef5261d55\",\"type\":\"Grid\"},{\"id\":\"381d6783-6f8c-4184-ae3d-a8a816b901fb\",\"type\":\"LinearAxis\"},{\"id\":\"f9e69aae-81fa-4ed0-aee7-8e393e793fe7\",\"type\":\"Grid\"},{\"id\":\"b44667a5-4b53-434f-91f1-d7ac654db2db\",\"type\":\"BoxAnnotation\"},{\"id\":\"1b27aed0-fabc-432c-9c63-f439f9f878b9\",\"type\":\"GlyphRenderer\"},{\"id\":\"71d89a8a-e168-4ce6-94e8-180b97c98135\",\"type\":\"Title\"}],\"title\":{\"id\":\"17d1e9fb-bce8-43f8-a84f-4c237072b1e3\",\"type\":\"Title\"},\"toolbar\":{\"id\":\"0db3e634-fc0a-4a87-a876-d176352449d7\",\"type\":\"Toolbar\"},\"toolbar_location\":null,\"x_range\":{\"id\":\"7b156019-525b-4939-89d7-d5ed975f3b58\",\"type\":\"Range1d\"},\"x_scale\":{\"id\":\"4acfea53-f9a3-47f9-866f-21fab304c635\",\"type\":\"LinearScale\"},\"y_range\":{\"id\":\"a0cd70f0-2121-4478-99ed-be22f1119ec3\",\"type\":\"DataRange1d\"},\"y_scale\":{\"id\":\"2b6f7a0c-c244-4fc0-959d-7d403d8ccbc6\",\"type\":\"LinearScale\"}},\"id\":\"589d34f1-6c0e-4d9d-b6b0-931f0e01f436\",\"subtype\":\"Figure\",\"type\":\"Plot\"},{\"attributes\":{\"plot\":null,\"text\":\"Rotation frequency: 3\"},\"id\":\"17d1e9fb-bce8-43f8-a84f-4c237072b1e3\",\"type\":\"Title\"},{\"attributes\":{\"active_drag\":\"auto\",\"active_inspect\":\"auto\",\"active_multi\":null,\"active_scroll\":\"auto\",\"active_tap\":\"auto\",\"tools\":[{\"id\":\"7f69ee92-42d6-4595-be01-9771eb55cc92\",\"type\":\"PanTool\"},{\"id\":\"8afe2ca2-cbae-4e7a-a789-6d1f55f77d2a\",\"type\":\"WheelZoomTool\"},{\"id\":\"316e4111-06a2-4282-b9f0-16e3c617c618\",\"type\":\"BoxZoomTool\"},{\"id\":\"37f98bf5-efe5-48c0-b898-366e20d51ed5\",\"type\":\"SaveTool\"},{\"id\":\"2086391f-967b-4685-8666-ede9b7db46bb\",\"type\":\"ResetTool\"},{\"id\":\"648af6c8-41cc-4cc0-8e80-1372302f5f0d\",\"type\":\"HelpTool\"}]},\"id\":\"0db3e634-fc0a-4a87-a876-d176352449d7\",\"type\":\"Toolbar\"},{\"attributes\":{\"fill_color\":{\"value\":\"#1f77b4\"},\"line_color\":{\"value\":\"#1f77b4\"},\"x\":{\"field\":\"x\"},\"y\":{\"field\":\"y\"}},\"id\":\"13729bf2-6914-4a3b-b79b-d5ef184a2bcf\",\"type\":\"Circle\"},{\"attributes\":{},\"id\":\"5a538b93-e744-4b54-849f-f8a2c021267e\",\"type\":\"SaveTool\"},{\"attributes\":{},\"id\":\"4acfea53-f9a3-47f9-866f-21fab304c635\",\"type\":\"LinearScale\"},{\"attributes\":{\"callback\":null},\"id\":\"a0cd70f0-2121-4478-99ed-be22f1119ec3\",\"type\":\"DataRange1d\"},{\"attributes\":{},\"id\":\"2b6f7a0c-c244-4fc0-959d-7d403d8ccbc6\",\"type\":\"LinearScale\"},{\"attributes\":{\"plot\":{\"id\":\"589d34f1-6c0e-4d9d-b6b0-931f0e01f436\",\"subtype\":\"Figure\",\"type\":\"Plot\"},\"ticker\":{\"id\":\"49b51dd6-a36a-4764-a260-98fb1e920199\",\"type\":\"BasicTicker\"}},\"id\":\"372ca5b4-4318-4408-992e-2d6ef5261d55\",\"type\":\"Grid\"},{\"attributes\":{\"formatter\":{\"id\":\"74a9fb67-d8e4-473a-af78-0d5653be45db\",\"type\":\"BasicTickFormatter\"},\"plot\":{\"id\":\"589d34f1-6c0e-4d9d-b6b0-931f0e01f436\",\"subtype\":\"Figure\",\"type\":\"Plot\"},\"ticker\":{\"id\":\"49b51dd6-a36a-4764-a260-98fb1e920199\",\"type\":\"BasicTicker\"}},\"id\":\"17e0b61e-5305-49ef-96c3-6ea1a6a448b8\",\"type\":\"LinearAxis\"},{\"attributes\":{},\"id\":\"49b51dd6-a36a-4764-a260-98fb1e920199\",\"type\":\"BasicTicker\"},{\"attributes\":{\"formatter\":{\"id\":\"8ac56746-f7a1-4eac-8b24-eeb707a9d4c2\",\"type\":\"BasicTickFormatter\"},\"plot\":{\"id\":\"589d34f1-6c0e-4d9d-b6b0-931f0e01f436\",\"subtype\":\"Figure\",\"type\":\"Plot\"},\"ticker\":{\"id\":\"192f7dd5-895c-4632-97df-b9ac5800a6bb\",\"type\":\"BasicTicker\"}},\"id\":\"381d6783-6f8c-4184-ae3d-a8a816b901fb\",\"type\":\"LinearAxis\"},{\"attributes\":{},\"id\":\"192f7dd5-895c-4632-97df-b9ac5800a6bb\",\"type\":\"BasicTicker\"},{\"attributes\":{\"dimension\":1,\"plot\":{\"id\":\"589d34f1-6c0e-4d9d-b6b0-931f0e01f436\",\"subtype\":\"Figure\",\"type\":\"Plot\"},\"ticker\":{\"id\":\"192f7dd5-895c-4632-97df-b9ac5800a6bb\",\"type\":\"BasicTicker\"}},\"id\":\"f9e69aae-81fa-4ed0-aee7-8e393e793fe7\",\"type\":\"Grid\"},{\"attributes\":{\"fill_alpha\":{\"value\":0.1},\"fill_color\":{\"value\":\"#1f77b4\"},\"line_alpha\":{\"value\":0.1},\"line_color\":{\"value\":\"#1f77b4\"},\"x\":{\"field\":\"x\"},\"y\":{\"field\":\"y\"}},\"id\":\"de313940-1c5e-4482-8615-9d7e9a07483e\",\"type\":\"Circle\"},{\"attributes\":{\"align\":\"center\",\"plot\":{\"id\":\"589d34f1-6c0e-4d9d-b6b0-931f0e01f436\",\"subtype\":\"Figure\",\"type\":\"Plot\"},\"text\":\"Centroid: (1.0, 0.0)\"},\"id\":\"71d89a8a-e168-4ce6-94e8-180b97c98135\",\"type\":\"Title\"},{\"attributes\":{\"callback\":null,\"data\":{\"x\":{\"__ndarray__\":\"AAAAAAAA8D8AAAAAAADwPwAAAAAAAPA/AAAAAAAA8D8AAAAAAADwPwAAAAAAAPA/AAAAAAAA8D8AAAAAAADwPwAAAAAAAPA/AAAAAAAA8D8AAAAAAADwPwAAAAAAAPA/AAAAAAAA8D8AAAAAAADwPwAAAAAAAPA/AAAAAAAA8D8=\",\"dtype\":\"float64\",\"shape\":[16]},\"y\":{\"__ndarray__\":\"AAAAAAAAAAAAAAAAAAAAAAAAAAAAAAAAAAAAAAAAAAAAAAAAAAAAAAAAAAAAAAAAAAAAAAAAAAAAAAAAAAAAAAAAAAAAAAAAAAAAAAAAAAAAAAAAAAAAAAAAAAAAAACAAAAAAAAAAAAAAAAAAAAAAAAAAAAAAAAAAAAAAAAAAIA=\",\"dtype\":\"float64\",\"shape\":[16]}},\"selected\":{\"id\":\"697b5e96-04d3-492b-a8f3-8a8d9ae93abe\",\"type\":\"Selection\"},\"selection_policy\":{\"id\":\"250cba85-7d79-4edb-a686-77897bf889e4\",\"type\":\"UnionRenderers\"}},\"id\":\"f37847cd-2700-4c09-8abf-eeee41a39d74\",\"type\":\"ColumnDataSource\"},{\"attributes\":{\"data_source\":{\"id\":\"50e377dc-0b63-4da9-986d-9e684d492559\",\"type\":\"ColumnDataSource\"},\"glyph\":{\"id\":\"223462ff-2a1e-4b66-85c5-5645f920e09a\",\"type\":\"Circle\"},\"hover_glyph\":null,\"muted_glyph\":null,\"nonselection_glyph\":{\"id\":\"b26b2d09-662c-44a5-bb1d-d86cd7fcab83\",\"type\":\"Circle\"},\"selection_glyph\":null,\"view\":{\"id\":\"e46ec45c-fc99-43e8-94ab-22e9a6ce6447\",\"type\":\"CDSView\"}},\"id\":\"27318d37-3607-47f5-b807-4a397b8a7f19\",\"type\":\"GlyphRenderer\"},{\"attributes\":{},\"id\":\"7f69ee92-42d6-4595-be01-9771eb55cc92\",\"type\":\"PanTool\"},{\"attributes\":{\"source\":{\"id\":\"f37847cd-2700-4c09-8abf-eeee41a39d74\",\"type\":\"ColumnDataSource\"}},\"id\":\"0eed844f-5269-44f4-b735-3a5e4d5c3885\",\"type\":\"CDSView\"},{\"attributes\":{},\"id\":\"8afe2ca2-cbae-4e7a-a789-6d1f55f77d2a\",\"type\":\"WheelZoomTool\"},{\"attributes\":{\"overlay\":{\"id\":\"b44667a5-4b53-434f-91f1-d7ac654db2db\",\"type\":\"BoxAnnotation\"}},\"id\":\"316e4111-06a2-4282-b9f0-16e3c617c618\",\"type\":\"BoxZoomTool\"},{\"attributes\":{},\"id\":\"37f98bf5-efe5-48c0-b898-366e20d51ed5\",\"type\":\"SaveTool\"},{\"attributes\":{},\"id\":\"2086391f-967b-4685-8666-ede9b7db46bb\",\"type\":\"ResetTool\"},{\"attributes\":{},\"id\":\"648af6c8-41cc-4cc0-8e80-1372302f5f0d\",\"type\":\"HelpTool\"},{\"attributes\":{\"bottom_units\":\"screen\",\"fill_alpha\":{\"value\":0.5},\"fill_color\":{\"value\":\"lightgrey\"},\"left_units\":\"screen\",\"level\":\"overlay\",\"line_alpha\":{\"value\":1.0},\"line_color\":{\"value\":\"black\"},\"line_dash\":[4,4],\"line_width\":{\"value\":2},\"plot\":null,\"render_mode\":\"css\",\"right_units\":\"screen\",\"top_units\":\"screen\"},\"id\":\"b44667a5-4b53-434f-91f1-d7ac654db2db\",\"type\":\"BoxAnnotation\"},{\"attributes\":{\"callback\":null,\"end\":1.5,\"start\":-1.5},\"id\":\"eab713e5-93e6-429f-847e-64f971fb4610\",\"type\":\"Range1d\"},{\"attributes\":{\"below\":[{\"id\":\"a2e3b9de-1ec8-4c77-9044-7aed9fc91e66\",\"type\":\"LinearAxis\"}],\"left\":[{\"id\":\"5aef000a-dca7-43d2-b4c0-6fca5ae90e0e\",\"type\":\"LinearAxis\"},{\"id\":\"a088f16e-a386-43f6-8805-70b0d6556918\",\"type\":\"Title\"}],\"plot_height\":250,\"plot_width\":250,\"renderers\":[{\"id\":\"a2e3b9de-1ec8-4c77-9044-7aed9fc91e66\",\"type\":\"LinearAxis\"},{\"id\":\"183bce62-e27e-4ac8-b13b-273e84778999\",\"type\":\"Grid\"},{\"id\":\"5aef000a-dca7-43d2-b4c0-6fca5ae90e0e\",\"type\":\"LinearAxis\"},{\"id\":\"f98e7a36-e226-4dd2-96dd-8b60c882bc72\",\"type\":\"Grid\"},{\"id\":\"d8fad13b-7245-4f47-9ac3-47833694fc40\",\"type\":\"BoxAnnotation\"},{\"id\":\"27318d37-3607-47f5-b807-4a397b8a7f19\",\"type\":\"GlyphRenderer\"},{\"id\":\"a088f16e-a386-43f6-8805-70b0d6556918\",\"type\":\"Title\"}],\"title\":{\"id\":\"22cd5457-ee95-4d98-8f05-136f41660a50\",\"type\":\"Title\"},\"toolbar\":{\"id\":\"904d381f-08cb-480d-ab4f-c0d8d01d01a7\",\"type\":\"Toolbar\"},\"toolbar_location\":null,\"x_range\":{\"id\":\"eab713e5-93e6-429f-847e-64f971fb4610\",\"type\":\"Range1d\"},\"x_scale\":{\"id\":\"0427486e-e0e0-4635-b25f-a6f4a3a273db\",\"type\":\"LinearScale\"},\"y_range\":{\"id\":\"c0258be5-0bf2-4167-82b1-1c75e7fc1b2a\",\"type\":\"DataRange1d\"},\"y_scale\":{\"id\":\"d466b300-751e-4ba2-8cdf-533f7ea2a2f1\",\"type\":\"LinearScale\"}},\"id\":\"c12c04f9-9f6d-4759-841c-0ed5dd61c5e6\",\"subtype\":\"Figure\",\"type\":\"Plot\"},{\"attributes\":{\"plot\":null,\"text\":\"Rotation frequency: 4\"},\"id\":\"22cd5457-ee95-4d98-8f05-136f41660a50\",\"type\":\"Title\"},{\"attributes\":{\"children\":[{\"id\":\"bcc2071b-599f-43ff-889d-07f3c289ed94\",\"type\":\"Row\"},{\"id\":\"6df1f1ef-5c5c-4d61-a17d-a6cb8400a453\",\"type\":\"Row\"}]},\"id\":\"7610a2b3-b3d8-4f7f-852d-6f759e44d1fb\",\"type\":\"Column\"},{\"attributes\":{\"active_drag\":\"auto\",\"active_inspect\":\"auto\",\"active_multi\":null,\"active_scroll\":\"auto\",\"active_tap\":\"auto\",\"tools\":[{\"id\":\"2545090f-4822-4e41-99bf-15fefbbe135c\",\"type\":\"PanTool\"},{\"id\":\"620f7a82-0b84-4578-b9d3-6e858d86265b\",\"type\":\"WheelZoomTool\"},{\"id\":\"4866e4a4-6189-456b-a1d1-b8229173ec0b\",\"type\":\"BoxZoomTool\"},{\"id\":\"c790786c-6bad-4b20-945a-f936b7df2789\",\"type\":\"SaveTool\"},{\"id\":\"b0878641-b00d-4aa4-899e-9221c9ee4bd8\",\"type\":\"ResetTool\"},{\"id\":\"88c7f558-79f5-4be9-96f0-8bb1437af860\",\"type\":\"HelpTool\"}]},\"id\":\"904d381f-08cb-480d-ab4f-c0d8d01d01a7\",\"type\":\"Toolbar\"},{\"attributes\":{\"callback\":null},\"id\":\"c8fc1d15-bf2f-4837-a624-8a6e3c01866b\",\"type\":\"DataRange1d\"},{\"attributes\":{\"children\":[{\"id\":\"dc70b823-d3a9-4b48-82ed-bc1045205dfd\",\"subtype\":\"Figure\",\"type\":\"Plot\"},{\"id\":\"0d739315-b131-4309-baf5-db003308b79d\",\"subtype\":\"Figure\",\"type\":\"Plot\"}]},\"id\":\"bcc2071b-599f-43ff-889d-07f3c289ed94\",\"type\":\"Row\"},{\"attributes\":{\"fill_color\":{\"value\":\"#1f77b4\"},\"line_color\":{\"value\":\"#1f77b4\"},\"x\":{\"field\":\"x\"},\"y\":{\"field\":\"y\"}},\"id\":\"223462ff-2a1e-4b66-85c5-5645f920e09a\",\"type\":\"Circle\"},{\"attributes\":{\"below\":[{\"id\":\"fcfe3253-d81c-47b6-ace6-d36c7c9607b4\",\"type\":\"LinearAxis\"}],\"left\":[{\"id\":\"0075a94e-056c-4f68-ac28-6b230e3f7af5\",\"type\":\"LinearAxis\"},{\"id\":\"08f26ca4-512a-4d38-9ac5-0d7169e13f99\",\"type\":\"Title\"}],\"plot_height\":250,\"plot_width\":250,\"renderers\":[{\"id\":\"fcfe3253-d81c-47b6-ace6-d36c7c9607b4\",\"type\":\"LinearAxis\"},{\"id\":\"e0c097a9-00c7-4c64-8cee-2f6c88b607d8\",\"type\":\"Grid\"},{\"id\":\"0075a94e-056c-4f68-ac28-6b230e3f7af5\",\"type\":\"LinearAxis\"},{\"id\":\"476b7d9d-56eb-4807-a362-a18bfcbaf40c\",\"type\":\"Grid\"},{\"id\":\"a276235c-b394-4b9f-9725-2cd547b3cb7f\",\"type\":\"BoxAnnotation\"},{\"id\":\"2fc09580-4c0c-4b38-99d1-9119a6c814c5\",\"type\":\"GlyphRenderer\"},{\"id\":\"08f26ca4-512a-4d38-9ac5-0d7169e13f99\",\"type\":\"Title\"}],\"title\":{\"id\":\"2ea050ed-19a1-4126-8fbf-1b7c66952905\",\"type\":\"Title\"},\"toolbar\":{\"id\":\"4f195e7d-1e32-46d0-a556-c67477c2b829\",\"type\":\"Toolbar\"},\"toolbar_location\":null,\"x_range\":{\"id\":\"6c8d9c08-dd2c-4f58-bcbc-125e3d4e5145\",\"type\":\"Range1d\"},\"x_scale\":{\"id\":\"b435d733-4c1f-4b28-aa1f-8982dfa73784\",\"type\":\"LinearScale\"},\"y_range\":{\"id\":\"a585503c-aafb-4fe8-8105-21d3858aba70\",\"type\":\"DataRange1d\"},\"y_scale\":{\"id\":\"24d92ed2-ff50-4265-a89a-371c4c3498c4\",\"type\":\"LinearScale\"}},\"id\":\"dc70b823-d3a9-4b48-82ed-bc1045205dfd\",\"subtype\":\"Figure\",\"type\":\"Plot\"},{\"attributes\":{},\"id\":\"0427486e-e0e0-4635-b25f-a6f4a3a273db\",\"type\":\"LinearScale\"},{\"attributes\":{\"data_source\":{\"id\":\"f93273eb-ff25-4b4f-9963-647dc0e8453f\",\"type\":\"ColumnDataSource\"},\"glyph\":{\"id\":\"17e3cb50-4fbc-46fa-aa1f-9ad0a3019b8d\",\"type\":\"Circle\"},\"hover_glyph\":null,\"muted_glyph\":null,\"nonselection_glyph\":{\"id\":\"1cee3656-208b-408e-8b5f-7c68a776dd69\",\"type\":\"Circle\"},\"selection_glyph\":null,\"view\":{\"id\":\"0d34c681-bcdb-4604-a4db-08b75fd6097f\",\"type\":\"CDSView\"}},\"id\":\"2fc09580-4c0c-4b38-99d1-9119a6c814c5\",\"type\":\"GlyphRenderer\"},{\"attributes\":{\"callback\":null},\"id\":\"c0258be5-0bf2-4167-82b1-1c75e7fc1b2a\",\"type\":\"DataRange1d\"},{\"attributes\":{\"plot\":null,\"text\":\"Rotation frequency: 1\"},\"id\":\"2ea050ed-19a1-4126-8fbf-1b7c66952905\",\"type\":\"Title\"},{\"attributes\":{},\"id\":\"d466b300-751e-4ba2-8cdf-533f7ea2a2f1\",\"type\":\"LinearScale\"},{\"attributes\":{},\"id\":\"a9d1d253-8572-4d61-9133-d60dde723932\",\"type\":\"LinearScale\"},{\"attributes\":{},\"id\":\"24d92ed2-ff50-4265-a89a-371c4c3498c4\",\"type\":\"LinearScale\"},{\"attributes\":{\"plot\":{\"id\":\"c12c04f9-9f6d-4759-841c-0ed5dd61c5e6\",\"subtype\":\"Figure\",\"type\":\"Plot\"},\"ticker\":{\"id\":\"5b223db9-2a4d-4636-af8d-22fb69097bf7\",\"type\":\"BasicTicker\"}},\"id\":\"183bce62-e27e-4ac8-b13b-273e84778999\",\"type\":\"Grid\"},{\"attributes\":{\"active_drag\":\"auto\",\"active_inspect\":\"auto\",\"active_multi\":null,\"active_scroll\":\"auto\",\"active_tap\":\"auto\",\"tools\":[{\"id\":\"e7e785ca-fc99-4352-995e-0e79dc8e2658\",\"type\":\"PanTool\"},{\"id\":\"6fe41612-aecb-49c5-9415-8fd55a35014e\",\"type\":\"WheelZoomTool\"},{\"id\":\"dc211e22-ac9d-47e0-9495-a96e2e583e21\",\"type\":\"BoxZoomTool\"},{\"id\":\"f54197f8-0b9c-4a39-89d1-98fbb86f143d\",\"type\":\"SaveTool\"},{\"id\":\"1d5b9a7a-dcdf-4123-9296-bde4cb12ed31\",\"type\":\"ResetTool\"},{\"id\":\"9e32f659-f076-45e0-b1fd-871f7f1ac103\",\"type\":\"HelpTool\"}]},\"id\":\"b0998964-1092-4cbe-abed-d27d09ec22a2\",\"type\":\"Toolbar\"},{\"attributes\":{\"formatter\":{\"id\":\"02654b19-8395-475e-8ca1-f5e1b1e286da\",\"type\":\"BasicTickFormatter\"},\"plot\":{\"id\":\"c12c04f9-9f6d-4759-841c-0ed5dd61c5e6\",\"subtype\":\"Figure\",\"type\":\"Plot\"},\"ticker\":{\"id\":\"5b223db9-2a4d-4636-af8d-22fb69097bf7\",\"type\":\"BasicTicker\"}},\"id\":\"a2e3b9de-1ec8-4c77-9044-7aed9fc91e66\",\"type\":\"LinearAxis\"},{\"attributes\":{},\"id\":\"2b2bf230-19d8-4cee-8a64-dd9008ce5ae5\",\"type\":\"BasicTicker\"},{\"attributes\":{\"active_drag\":\"auto\",\"active_inspect\":\"auto\",\"active_multi\":null,\"active_scroll\":\"auto\",\"active_tap\":\"auto\",\"tools\":[{\"id\":\"476f06ff-507f-4b32-8f98-208234ce14d9\",\"type\":\"PanTool\"},{\"id\":\"490734e8-7d02-4817-a993-84d9f84ca1cb\",\"type\":\"WheelZoomTool\"},{\"id\":\"cc571472-a29c-474b-b63f-f85d7ff6e05a\",\"type\":\"BoxZoomTool\"},{\"id\":\"5a538b93-e744-4b54-849f-f8a2c021267e\",\"type\":\"SaveTool\"},{\"id\":\"a7246536-84c7-4fc3-87c4-18cffe0805bc\",\"type\":\"ResetTool\"},{\"id\":\"ddd7baf5-8503-4fd6-bab5-5fd010c95693\",\"type\":\"HelpTool\"}]},\"id\":\"4f195e7d-1e32-46d0-a556-c67477c2b829\",\"type\":\"Toolbar\"},{\"attributes\":{},\"id\":\"5b223db9-2a4d-4636-af8d-22fb69097bf7\",\"type\":\"BasicTicker\"},{\"attributes\":{},\"id\":\"b435d733-4c1f-4b28-aa1f-8982dfa73784\",\"type\":\"LinearScale\"},{\"attributes\":{\"formatter\":{\"id\":\"5aea7247-9661-428e-82af-22d239faa5f0\",\"type\":\"BasicTickFormatter\"},\"plot\":{\"id\":\"c12c04f9-9f6d-4759-841c-0ed5dd61c5e6\",\"subtype\":\"Figure\",\"type\":\"Plot\"},\"ticker\":{\"id\":\"3c4ed46a-6d0c-4575-ad9a-f8cd1c7b6bd8\",\"type\":\"BasicTicker\"}},\"id\":\"5aef000a-dca7-43d2-b4c0-6fca5ae90e0e\",\"type\":\"LinearAxis\"},{\"attributes\":{},\"id\":\"5abc5d05-6379-40c7-b7e0-b35074352bad\",\"type\":\"LinearScale\"},{\"attributes\":{\"plot\":null,\"text\":\"Rotation frequency: 2\"},\"id\":\"2365742b-3cd9-488b-b3a0-7a04e9b4c840\",\"type\":\"Title\"},{\"attributes\":{},\"id\":\"3c4ed46a-6d0c-4575-ad9a-f8cd1c7b6bd8\",\"type\":\"BasicTicker\"},{\"attributes\":{},\"id\":\"9e32f659-f076-45e0-b1fd-871f7f1ac103\",\"type\":\"HelpTool\"},{\"attributes\":{\"dimension\":1,\"plot\":{\"id\":\"c12c04f9-9f6d-4759-841c-0ed5dd61c5e6\",\"subtype\":\"Figure\",\"type\":\"Plot\"},\"ticker\":{\"id\":\"3c4ed46a-6d0c-4575-ad9a-f8cd1c7b6bd8\",\"type\":\"BasicTicker\"}},\"id\":\"f98e7a36-e226-4dd2-96dd-8b60c882bc72\",\"type\":\"Grid\"},{\"attributes\":{\"fill_color\":{\"value\":\"#1f77b4\"},\"line_color\":{\"value\":\"#1f77b4\"},\"x\":{\"field\":\"x\"},\"y\":{\"field\":\"y\"}},\"id\":\"17e3cb50-4fbc-46fa-aa1f-9ad0a3019b8d\",\"type\":\"Circle\"},{\"attributes\":{\"callback\":null,\"end\":1.5,\"start\":-1.5},\"id\":\"6c8d9c08-dd2c-4f58-bcbc-125e3d4e5145\",\"type\":\"Range1d\"},{\"attributes\":{\"fill_alpha\":{\"value\":0.1},\"fill_color\":{\"value\":\"#1f77b4\"},\"line_alpha\":{\"value\":0.1},\"line_color\":{\"value\":\"#1f77b4\"},\"x\":{\"field\":\"x\"},\"y\":{\"field\":\"y\"}},\"id\":\"b26b2d09-662c-44a5-bb1d-d86cd7fcab83\",\"type\":\"Circle\"},{\"attributes\":{\"callback\":null},\"id\":\"a585503c-aafb-4fe8-8105-21d3858aba70\",\"type\":\"DataRange1d\"},{\"attributes\":{\"align\":\"center\",\"plot\":{\"id\":\"c12c04f9-9f6d-4759-841c-0ed5dd61c5e6\",\"subtype\":\"Figure\",\"type\":\"Plot\"},\"text\":\"Centroid: (0.0, 0.0)\"},\"id\":\"a088f16e-a386-43f6-8805-70b0d6556918\",\"type\":\"Title\"},{\"attributes\":{\"formatter\":{\"id\":\"6a293336-d9d7-47cd-a869-f433da5c88b9\",\"type\":\"BasicTickFormatter\"},\"plot\":{\"id\":\"dc70b823-d3a9-4b48-82ed-bc1045205dfd\",\"subtype\":\"Figure\",\"type\":\"Plot\"},\"ticker\":{\"id\":\"f7a90786-9dfa-4bb7-bf05-09e07ecec080\",\"type\":\"BasicTicker\"}},\"id\":\"0075a94e-056c-4f68-ac28-6b230e3f7af5\",\"type\":\"LinearAxis\"},{\"attributes\":{\"callback\":null,\"data\":{\"x\":{\"__ndarray__\":\"AAAAAAAA8D8cti3KbJDtP7u5+NueoOY//gxv1uB92D8AAAAAAAAAAP4Mb9bgfdi/u7n4256g5r8cti3KbJDtvwAAAAAAAPC/HLYtymyQ7b+7ufjbnqDmv/4Mb9bgfdi/AAAAAAAAAID+DG/W4H3YP7u5+NueoOY/HLYtymyQ7T8=\",\"dtype\":\"float64\",\"shape\":[16]},\"y\":{\"__ndarray__\":\"AAAAAAAAAAD+DG/W4H3Yv7u5+NueoOa/HLYtymyQ7b8AAAAAAADwvxy2LcpskO2/u7n4256g5r/+DG/W4H3YvwAAAAAAAACA/gxv1uB92D+7ufjbnqDmPxy2LcpskO0/AAAAAAAA8D8cti3KbJDtP7u5+NueoOY//gxv1uB92D8=\",\"dtype\":\"float64\",\"shape\":[16]}},\"selected\":{\"id\":\"9eed7bfb-df76-4995-96b9-e0ece47f083b\",\"type\":\"Selection\"},\"selection_policy\":{\"id\":\"65d3d598-519d-496d-8172-ba5120f69321\",\"type\":\"UnionRenderers\"}},\"id\":\"50e377dc-0b63-4da9-986d-9e684d492559\",\"type\":\"ColumnDataSource\"},{\"attributes\":{\"plot\":{\"id\":\"dc70b823-d3a9-4b48-82ed-bc1045205dfd\",\"subtype\":\"Figure\",\"type\":\"Plot\"},\"ticker\":{\"id\":\"2b2bf230-19d8-4cee-8a64-dd9008ce5ae5\",\"type\":\"BasicTicker\"}},\"id\":\"e0c097a9-00c7-4c64-8cee-2f6c88b607d8\",\"type\":\"Grid\"},{\"attributes\":{\"callback\":null,\"end\":1.5,\"start\":-1.5},\"id\":\"f8eb9860-1dac-4831-9db5-fbb8ff5e0c0e\",\"type\":\"Range1d\"},{\"attributes\":{},\"id\":\"2545090f-4822-4e41-99bf-15fefbbe135c\",\"type\":\"PanTool\"},{\"attributes\":{\"below\":[{\"id\":\"f0525d14-4863-4c4b-8d3c-38d7a21f6307\",\"type\":\"LinearAxis\"}],\"left\":[{\"id\":\"eebf6b88-ca18-4d8b-94e2-bb90671526d2\",\"type\":\"LinearAxis\"},{\"id\":\"0e7590d8-a015-4ed9-8af7-93ce735180ce\",\"type\":\"Title\"}],\"plot_height\":250,\"plot_width\":250,\"renderers\":[{\"id\":\"f0525d14-4863-4c4b-8d3c-38d7a21f6307\",\"type\":\"LinearAxis\"},{\"id\":\"b35d7c82-aa8d-4088-b7f3-de01525f9bca\",\"type\":\"Grid\"},{\"id\":\"eebf6b88-ca18-4d8b-94e2-bb90671526d2\",\"type\":\"LinearAxis\"},{\"id\":\"3df5f7c6-8e86-4443-a4d8-f52f59b1c763\",\"type\":\"Grid\"},{\"id\":\"ae1189cb-2b09-405b-8e57-86a55a5c84bd\",\"type\":\"BoxAnnotation\"},{\"id\":\"9563b7f2-8386-4880-9a48-0a0e3cc6116e\",\"type\":\"GlyphRenderer\"},{\"id\":\"0e7590d8-a015-4ed9-8af7-93ce735180ce\",\"type\":\"Title\"}],\"title\":{\"id\":\"2365742b-3cd9-488b-b3a0-7a04e9b4c840\",\"type\":\"Title\"},\"toolbar\":{\"id\":\"b0998964-1092-4cbe-abed-d27d09ec22a2\",\"type\":\"Toolbar\"},\"toolbar_location\":null,\"x_range\":{\"id\":\"f8eb9860-1dac-4831-9db5-fbb8ff5e0c0e\",\"type\":\"Range1d\"},\"x_scale\":{\"id\":\"a9d1d253-8572-4d61-9133-d60dde723932\",\"type\":\"LinearScale\"},\"y_range\":{\"id\":\"c8fc1d15-bf2f-4837-a624-8a6e3c01866b\",\"type\":\"DataRange1d\"},\"y_scale\":{\"id\":\"5abc5d05-6379-40c7-b7e0-b35074352bad\",\"type\":\"LinearScale\"}},\"id\":\"0d739315-b131-4309-baf5-db003308b79d\",\"subtype\":\"Figure\",\"type\":\"Plot\"},{\"attributes\":{\"formatter\":{\"id\":\"361a7dfd-273f-407d-a9fd-90b60628a821\",\"type\":\"BasicTickFormatter\"},\"plot\":{\"id\":\"dc70b823-d3a9-4b48-82ed-bc1045205dfd\",\"subtype\":\"Figure\",\"type\":\"Plot\"},\"ticker\":{\"id\":\"2b2bf230-19d8-4cee-8a64-dd9008ce5ae5\",\"type\":\"BasicTicker\"}},\"id\":\"fcfe3253-d81c-47b6-ace6-d36c7c9607b4\",\"type\":\"LinearAxis\"},{\"attributes\":{},\"id\":\"f7a90786-9dfa-4bb7-bf05-09e07ecec080\",\"type\":\"BasicTicker\"},{\"attributes\":{\"source\":{\"id\":\"50e377dc-0b63-4da9-986d-9e684d492559\",\"type\":\"ColumnDataSource\"}},\"id\":\"e46ec45c-fc99-43e8-94ab-22e9a6ce6447\",\"type\":\"CDSView\"},{\"attributes\":{},\"id\":\"620f7a82-0b84-4578-b9d3-6e858d86265b\",\"type\":\"WheelZoomTool\"},{\"attributes\":{\"dimension\":1,\"plot\":{\"id\":\"dc70b823-d3a9-4b48-82ed-bc1045205dfd\",\"subtype\":\"Figure\",\"type\":\"Plot\"},\"ticker\":{\"id\":\"f7a90786-9dfa-4bb7-bf05-09e07ecec080\",\"type\":\"BasicTicker\"}},\"id\":\"476b7d9d-56eb-4807-a362-a18bfcbaf40c\",\"type\":\"Grid\"},{\"attributes\":{},\"id\":\"476f06ff-507f-4b32-8f98-208234ce14d9\",\"type\":\"PanTool\"},{\"attributes\":{\"overlay\":{\"id\":\"d8fad13b-7245-4f47-9ac3-47833694fc40\",\"type\":\"BoxAnnotation\"}},\"id\":\"4866e4a4-6189-456b-a1d1-b8229173ec0b\",\"type\":\"BoxZoomTool\"},{\"attributes\":{\"bottom_units\":\"screen\",\"fill_alpha\":{\"value\":0.5},\"fill_color\":{\"value\":\"lightgrey\"},\"left_units\":\"screen\",\"level\":\"overlay\",\"line_alpha\":{\"value\":1.0},\"line_color\":{\"value\":\"black\"},\"line_dash\":[4,4],\"line_width\":{\"value\":2},\"plot\":null,\"render_mode\":\"css\",\"right_units\":\"screen\",\"top_units\":\"screen\"},\"id\":\"a276235c-b394-4b9f-9725-2cd547b3cb7f\",\"type\":\"BoxAnnotation\"},{\"attributes\":{},\"id\":\"c790786c-6bad-4b20-945a-f936b7df2789\",\"type\":\"SaveTool\"},{\"attributes\":{\"source\":{\"id\":\"f93273eb-ff25-4b4f-9963-647dc0e8453f\",\"type\":\"ColumnDataSource\"}},\"id\":\"0d34c681-bcdb-4604-a4db-08b75fd6097f\",\"type\":\"CDSView\"},{\"attributes\":{},\"id\":\"b0878641-b00d-4aa4-899e-9221c9ee4bd8\",\"type\":\"ResetTool\"},{\"attributes\":{\"fill_alpha\":{\"value\":0.1},\"fill_color\":{\"value\":\"#1f77b4\"},\"line_alpha\":{\"value\":0.1},\"line_color\":{\"value\":\"#1f77b4\"},\"x\":{\"field\":\"x\"},\"y\":{\"field\":\"y\"}},\"id\":\"1cee3656-208b-408e-8b5f-7c68a776dd69\",\"type\":\"Circle\"},{\"attributes\":{},\"id\":\"88c7f558-79f5-4be9-96f0-8bb1437af860\",\"type\":\"HelpTool\"},{\"attributes\":{\"callback\":null,\"data\":{\"x\":{\"__ndarray__\":\"AAAAAAAA8D+7ufjbnqDmPwAAAAAAAAAAu7n4256g5r8AAAAAAADwv7u5+NueoOa/AAAAAAAAAIC7ufjbnqDmPwAAAAAAAPA/u7n4256g5j8AAAAAAAAAALu5+NueoOa/AAAAAAAA8L+7ufjbnqDmvwAAAAAAAAAAu7n4256g5j8=\",\"dtype\":\"float64\",\"shape\":[16]},\"y\":{\"__ndarray__\":\"AAAAAAAAAAC7ufjbnqDmPwAAAAAAAPA/u7n4256g5j8AAAAAAAAAALu5+NueoOa/AAAAAAAA8L+7ufjbnqDmvwAAAAAAAACAu7n4256g5j8AAAAAAADwP7u5+NueoOY/AAAAAAAAAAC7ufjbnqDmvwAAAAAAAPC/u7n4256g5r8=\",\"dtype\":\"float64\",\"shape\":[16]}},\"selected\":{\"id\":\"c4190ce0-1dc5-42df-ace8-59c19863d212\",\"type\":\"Selection\"},\"selection_policy\":{\"id\":\"51b8597f-03d3-42ea-b681-7d8d3d3fa326\",\"type\":\"UnionRenderers\"}},\"id\":\"f93273eb-ff25-4b4f-9963-647dc0e8453f\",\"type\":\"ColumnDataSource\"}],\"root_ids\":[\"90e89b50-fd61-4c9c-ba67-3714e89d16ea\"]},\"title\":\"Bokeh Application\",\"version\":\"0.13.0\"}};\n",
       "  var render_items = [{\"docid\":\"0cf8df8a-d098-464a-b917-b71563b1ea8e\",\"roots\":{\"90e89b50-fd61-4c9c-ba67-3714e89d16ea\":\"32affa3e-6d1e-42ea-b37c-1030c1313732\"}}];\n",
       "  root.Bokeh.embed.embed_items_notebook(docs_json, render_items);\n",
       "\n",
       "  }\n",
       "  if (root.Bokeh !== undefined) {\n",
       "    embed_document(root);\n",
       "  } else {\n",
       "    var attempts = 0;\n",
       "    var timer = setInterval(function(root) {\n",
       "      if (root.Bokeh !== undefined) {\n",
       "        embed_document(root);\n",
       "        clearInterval(timer);\n",
       "      }\n",
       "      attempts++;\n",
       "      if (attempts > 100) {\n",
       "        console.log(\"Bokeh: ERROR: Unable to run BokehJS code because BokehJS library is missing\")\n",
       "        clearInterval(timer);\n",
       "      }\n",
       "    }, 10, root)\n",
       "  }\n",
       "})(window);"
      ],
      "application/vnd.bokehjs_exec.v0+json": ""
     },
     "metadata": {
      "application/vnd.bokehjs_exec.v0+json": {
       "id": "90e89b50-fd61-4c9c-ba67-3714e89d16ea"
      }
     },
     "output_type": "display_data"
    }
   ],
   "source": [
    "plots = []\n",
    "wid = 250\n",
    "ran = (-1.5, 1.5)\n",
    "\n",
    "for frequency in range(1, 5):\n",
    "    \n",
    "    points_rot = rotate_points(points, frequency, N)\n",
    "    center = points_rot.real.mean(), points_rot.imag.mean()\n",
    "\n",
    "    plot = figure(\n",
    "        plot_width=wid, plot_height=wid, \n",
    "        x_range=(-1.5, 1.5),\n",
    "        title=f'Rotation frequency: {frequency}'\n",
    "    )\n",
    "    plot.circle(points_rot.real, points_rot.imag)\n",
    "    plot.add_layout(Title(text=f'Centroid: {center}', align=\"center\"), \"left\")\n",
    "    plots.append(plot)\n",
    "    \n",
    "grid = gridplot([plots[:2], plots[2:]])\n",
    "show(grid)"
   ]
  },
  {
   "cell_type": "markdown",
   "metadata": {},
   "source": [
    "Notice that for us, the original signal frequency was 3, and when rotating each point back by 3, the the plot of points converges to one (non-zero) value.  If we take the average of all the points (the centroid), we see that all other plots (having frequency != 3) average to zero, except the one with the correct frequency.  These centroids (scaled by N points) are the fourier coefficients of this signal!"
   ]
  },
  {
   "cell_type": "markdown",
   "metadata": {},
   "source": [
    "----------\n",
    "\n",
    "# Epicycles\n",
    "\n",
    "-----------\n",
    "\n",
    "[Epicycles](https://en.wikipedia.org/wiki/Deferent_and_epicycle), or 'circles on circles' are a historic method in which all astronomical motions were described.  Any periodic motion can be described by epicycles, but the complexity grows pretty quickly, which is partially why astronomy moved on.  They are, however, a great model for studying Fourier Coefficients.  \n",
    "\n",
    "Imagine the Moon circling the earch, and the Earth in turn circling the Sun.  The moon's orbit around the sun is an epicycle, or small terrestrial orbits around a much larger solar orbit.  Ignoring precessions for the moment, lets imagine this fully explains the moon's orbital pattern within the solar system.  If we look at the Moon's orbit in terms of frequencies (in Fourier space), we will see a frequency component for its orbit around the Earth, and another for the Earth's orbit around the sun.\n"
   ]
  },
  {
   "cell_type": "code",
   "execution_count": 7,
   "metadata": {},
   "outputs": [
    {
     "data": {
      "text/html": [
       "\n",
       "\n",
       "\n",
       "\n",
       "\n",
       "\n",
       "  <div class=\"bk-root\" id=\"b7fbb8e5-e61d-4100-831f-e22459aac621\"></div>\n"
      ]
     },
     "metadata": {},
     "output_type": "display_data"
    },
    {
     "data": {
      "application/javascript": [
       "(function(root) {\n",
       "  function embed_document(root) {\n",
       "    \n",
       "  var docs_json = {\"411839d1-ebf8-46c1-9ec4-e5cab4c2e21a\":{\"roots\":{\"references\":[{\"attributes\":{},\"id\":\"3750d1fd-ee50-4858-807f-c9785534b69b\",\"type\":\"BasicTickFormatter\"},{\"attributes\":{\"source\":{\"id\":\"7ec4db97-44d6-4a50-b4d3-2b18fde21996\",\"type\":\"ColumnDataSource\"}},\"id\":\"6d29e8b5-5a00-4786-8403-f7256e25ffab\",\"type\":\"CDSView\"},{\"attributes\":{\"plot\":{\"id\":\"7f3c1e50-488a-4806-950d-a0e9efab8c78\",\"subtype\":\"Figure\",\"type\":\"Plot\"},\"ticker\":{\"id\":\"fbea9032-d5dc-42bf-8398-6b230ba4bc70\",\"type\":\"BasicTicker\"}},\"id\":\"8000bcc6-c395-419f-adb2-2d4d2a4b6d1d\",\"type\":\"Grid\"},{\"attributes\":{},\"id\":\"56d0d8e1-fa4b-4637-8569-9744a8caedc4\",\"type\":\"LinearScale\"},{\"attributes\":{\"below\":[{\"id\":\"319b485c-3881-4185-b195-15c5b5ffbd6d\",\"type\":\"LinearAxis\"}],\"left\":[{\"id\":\"80b43660-9828-4538-b49b-dcd1d564adb3\",\"type\":\"LinearAxis\"}],\"plot_height\":250,\"plot_width\":250,\"renderers\":[{\"id\":\"319b485c-3881-4185-b195-15c5b5ffbd6d\",\"type\":\"LinearAxis\"},{\"id\":\"8000bcc6-c395-419f-adb2-2d4d2a4b6d1d\",\"type\":\"Grid\"},{\"id\":\"80b43660-9828-4538-b49b-dcd1d564adb3\",\"type\":\"LinearAxis\"},{\"id\":\"e2a6c28c-3bf1-43d3-b43d-6d5912b0a540\",\"type\":\"Grid\"},{\"id\":\"dc3ed636-f413-463e-8f8b-6530796ac506\",\"type\":\"BoxAnnotation\"},{\"id\":\"bc9722ed-6038-45b6-af67-cefa85103240\",\"type\":\"GlyphRenderer\"}],\"title\":{\"id\":\"6becc5f0-d548-45c3-af53-c6b9dc2cb213\",\"type\":\"Title\"},\"toolbar\":{\"id\":\"15469338-e2a8-4c95-9203-a15ad7b7474b\",\"type\":\"Toolbar\"},\"x_range\":{\"id\":\"70b7ac77-4a2c-4b24-83b8-309c52035254\",\"type\":\"DataRange1d\"},\"x_scale\":{\"id\":\"717922d5-0721-4451-89ec-4589e8b2d4a0\",\"type\":\"LinearScale\"},\"y_range\":{\"id\":\"eba18624-51c8-4310-afca-a15dd7eab6f5\",\"type\":\"DataRange1d\"},\"y_scale\":{\"id\":\"56d0d8e1-fa4b-4637-8569-9744a8caedc4\",\"type\":\"LinearScale\"}},\"id\":\"7f3c1e50-488a-4806-950d-a0e9efab8c78\",\"subtype\":\"Figure\",\"type\":\"Plot\"},{\"attributes\":{\"callback\":null},\"id\":\"70b7ac77-4a2c-4b24-83b8-309c52035254\",\"type\":\"DataRange1d\"},{\"attributes\":{\"dimension\":1,\"plot\":{\"id\":\"7f3c1e50-488a-4806-950d-a0e9efab8c78\",\"subtype\":\"Figure\",\"type\":\"Plot\"},\"ticker\":{\"id\":\"1e04dbf1-ecb2-48e5-9deb-4d978e9349c9\",\"type\":\"BasicTicker\"}},\"id\":\"e2a6c28c-3bf1-43d3-b43d-6d5912b0a540\",\"type\":\"Grid\"},{\"attributes\":{\"callback\":null},\"id\":\"eba18624-51c8-4310-afca-a15dd7eab6f5\",\"type\":\"DataRange1d\"},{\"attributes\":{},\"id\":\"679dc728-286a-47a4-aa66-a82057b616ed\",\"type\":\"Selection\"},{\"attributes\":{\"plot\":null,\"text\":\"\"},\"id\":\"6becc5f0-d548-45c3-af53-c6b9dc2cb213\",\"type\":\"Title\"},{\"attributes\":{\"fill_color\":{\"value\":\"#1f77b4\"},\"line_color\":{\"value\":\"#1f77b4\"},\"x\":{\"field\":\"x\"},\"y\":{\"field\":\"y\"}},\"id\":\"f292863a-6038-49c7-ac6f-d11cc22ab796\",\"type\":\"Circle\"},{\"attributes\":{},\"id\":\"15222161-e90c-4293-95de-5aba249f5551\",\"type\":\"BasicTickFormatter\"},{\"attributes\":{\"fill_alpha\":{\"value\":0.1},\"fill_color\":{\"value\":\"#1f77b4\"},\"line_alpha\":{\"value\":0.1},\"line_color\":{\"value\":\"#1f77b4\"},\"x\":{\"field\":\"x\"},\"y\":{\"field\":\"y\"}},\"id\":\"2c8ab6c3-115b-4315-b8b7-d5b28b4ee896\",\"type\":\"Circle\"},{\"attributes\":{},\"id\":\"f856f7a5-371c-4f4d-89dc-12cff2f72b63\",\"type\":\"SaveTool\"},{\"attributes\":{\"active_drag\":\"auto\",\"active_inspect\":\"auto\",\"active_multi\":null,\"active_scroll\":\"auto\",\"active_tap\":\"auto\",\"tools\":[{\"id\":\"3762716b-39f3-498c-8002-9a15fc0d2ae2\",\"type\":\"PanTool\"},{\"id\":\"b75e6a12-a4dc-449c-b1d2-6f0235b631f8\",\"type\":\"WheelZoomTool\"},{\"id\":\"94fa75dd-8d26-43b4-8229-e3c281dc8bef\",\"type\":\"BoxZoomTool\"},{\"id\":\"f856f7a5-371c-4f4d-89dc-12cff2f72b63\",\"type\":\"SaveTool\"},{\"id\":\"30e5f32c-c939-45fc-bc10-72acba3c77d0\",\"type\":\"ResetTool\"},{\"id\":\"495aa11d-4267-405f-b9a2-3ee718b4c3d7\",\"type\":\"HelpTool\"}]},\"id\":\"15469338-e2a8-4c95-9203-a15ad7b7474b\",\"type\":\"Toolbar\"},{\"attributes\":{},\"id\":\"3762716b-39f3-498c-8002-9a15fc0d2ae2\",\"type\":\"PanTool\"},{\"attributes\":{},\"id\":\"495aa11d-4267-405f-b9a2-3ee718b4c3d7\",\"type\":\"HelpTool\"},{\"attributes\":{\"overlay\":{\"id\":\"dc3ed636-f413-463e-8f8b-6530796ac506\",\"type\":\"BoxAnnotation\"}},\"id\":\"94fa75dd-8d26-43b4-8229-e3c281dc8bef\",\"type\":\"BoxZoomTool\"},{\"attributes\":{\"data_source\":{\"id\":\"7ec4db97-44d6-4a50-b4d3-2b18fde21996\",\"type\":\"ColumnDataSource\"},\"glyph\":{\"id\":\"f292863a-6038-49c7-ac6f-d11cc22ab796\",\"type\":\"Circle\"},\"hover_glyph\":null,\"muted_glyph\":null,\"nonselection_glyph\":{\"id\":\"2c8ab6c3-115b-4315-b8b7-d5b28b4ee896\",\"type\":\"Circle\"},\"selection_glyph\":null,\"view\":{\"id\":\"6d29e8b5-5a00-4786-8403-f7256e25ffab\",\"type\":\"CDSView\"}},\"id\":\"bc9722ed-6038-45b6-af67-cefa85103240\",\"type\":\"GlyphRenderer\"},{\"attributes\":{},\"id\":\"1e04dbf1-ecb2-48e5-9deb-4d978e9349c9\",\"type\":\"BasicTicker\"},{\"attributes\":{\"formatter\":{\"id\":\"3750d1fd-ee50-4858-807f-c9785534b69b\",\"type\":\"BasicTickFormatter\"},\"plot\":{\"id\":\"7f3c1e50-488a-4806-950d-a0e9efab8c78\",\"subtype\":\"Figure\",\"type\":\"Plot\"},\"ticker\":{\"id\":\"1e04dbf1-ecb2-48e5-9deb-4d978e9349c9\",\"type\":\"BasicTicker\"}},\"id\":\"80b43660-9828-4538-b49b-dcd1d564adb3\",\"type\":\"LinearAxis\"},{\"attributes\":{\"bottom_units\":\"screen\",\"fill_alpha\":{\"value\":0.5},\"fill_color\":{\"value\":\"lightgrey\"},\"left_units\":\"screen\",\"level\":\"overlay\",\"line_alpha\":{\"value\":1.0},\"line_color\":{\"value\":\"black\"},\"line_dash\":[4,4],\"line_width\":{\"value\":2},\"plot\":null,\"render_mode\":\"css\",\"right_units\":\"screen\",\"top_units\":\"screen\"},\"id\":\"dc3ed636-f413-463e-8f8b-6530796ac506\",\"type\":\"BoxAnnotation\"},{\"attributes\":{},\"id\":\"fbea9032-d5dc-42bf-8398-6b230ba4bc70\",\"type\":\"BasicTicker\"},{\"attributes\":{},\"id\":\"6ea6a311-c690-47b0-a466-4b0cf05f97d2\",\"type\":\"UnionRenderers\"},{\"attributes\":{\"formatter\":{\"id\":\"15222161-e90c-4293-95de-5aba249f5551\",\"type\":\"BasicTickFormatter\"},\"plot\":{\"id\":\"7f3c1e50-488a-4806-950d-a0e9efab8c78\",\"subtype\":\"Figure\",\"type\":\"Plot\"},\"ticker\":{\"id\":\"fbea9032-d5dc-42bf-8398-6b230ba4bc70\",\"type\":\"BasicTicker\"}},\"id\":\"319b485c-3881-4185-b195-15c5b5ffbd6d\",\"type\":\"LinearAxis\"},{\"attributes\":{},\"id\":\"b75e6a12-a4dc-449c-b1d2-6f0235b631f8\",\"type\":\"WheelZoomTool\"},{\"attributes\":{},\"id\":\"717922d5-0721-4451-89ec-4589e8b2d4a0\",\"type\":\"LinearScale\"},{\"attributes\":{\"callback\":null,\"data\":{\"x\":{\"__ndarray__\":\"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\",\"dtype\":\"float64\",\"shape\":[500]},\"y\":{\"__ndarray__\":\"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\",\"dtype\":\"float64\",\"shape\":[500]}},\"selected\":{\"id\":\"679dc728-286a-47a4-aa66-a82057b616ed\",\"type\":\"Selection\"},\"selection_policy\":{\"id\":\"6ea6a311-c690-47b0-a466-4b0cf05f97d2\",\"type\":\"UnionRenderers\"}},\"id\":\"7ec4db97-44d6-4a50-b4d3-2b18fde21996\",\"type\":\"ColumnDataSource\"},{\"attributes\":{},\"id\":\"30e5f32c-c939-45fc-bc10-72acba3c77d0\",\"type\":\"ResetTool\"}],\"root_ids\":[\"7f3c1e50-488a-4806-950d-a0e9efab8c78\"]},\"title\":\"Bokeh Application\",\"version\":\"0.13.0\"}};\n",
       "  var render_items = [{\"docid\":\"411839d1-ebf8-46c1-9ec4-e5cab4c2e21a\",\"roots\":{\"7f3c1e50-488a-4806-950d-a0e9efab8c78\":\"b7fbb8e5-e61d-4100-831f-e22459aac621\"}}];\n",
       "  root.Bokeh.embed.embed_items_notebook(docs_json, render_items);\n",
       "\n",
       "  }\n",
       "  if (root.Bokeh !== undefined) {\n",
       "    embed_document(root);\n",
       "  } else {\n",
       "    var attempts = 0;\n",
       "    var timer = setInterval(function(root) {\n",
       "      if (root.Bokeh !== undefined) {\n",
       "        embed_document(root);\n",
       "        clearInterval(timer);\n",
       "      }\n",
       "      attempts++;\n",
       "      if (attempts > 100) {\n",
       "        console.log(\"Bokeh: ERROR: Unable to run BokehJS code because BokehJS library is missing\")\n",
       "        clearInterval(timer);\n",
       "      }\n",
       "    }, 10, root)\n",
       "  }\n",
       "})(window);"
      ],
      "application/vnd.bokehjs_exec.v0+json": ""
     },
     "metadata": {
      "application/vnd.bokehjs_exec.v0+json": {
       "id": "7f3c1e50-488a-4806-950d-a0e9efab8c78"
      }
     },
     "output_type": "display_data"
    }
   ],
   "source": [
    "# Make N larger so we can see the orbits more clearly\n",
    "# Number of samples to take of signal\n",
    "N = 500\n",
    "theta = tau * np.linspace(0, 1, N + 1)[:-1]\n",
    "\n",
    "# points of earth's rotation around the sun\n",
    "earth_freq = 1\n",
    "points_earth = make_points(earth_freq, 1, theta)\n",
    "\n",
    "# points of moon's rotation around the earth\n",
    "moon_freq = 7\n",
    "points_moon = make_points(moon_freq, .4, theta)\n",
    "\n",
    "# moon around sun is simply the sum of the above\n",
    "points = points_earth + points_moon\n",
    "\n",
    "plot_points(points)"
   ]
  },
  {
   "cell_type": "markdown",
   "metadata": {},
   "source": [
    "Great!  Now we can see a more complex motion.  We could continue to add orbits, like the precession of the sun and moon about their axix of rotation etc.  In any case, we should see two Fourier components to this motion.  Lets perform the similar rotation of frames for each point and look for the frequencies where the centroid of the points is non-zero.  These will be the Fourier coefficients of this complex motion, namely `earth_freq` and `moon_freq`"
   ]
  },
  {
   "cell_type": "code",
   "execution_count": 10,
   "metadata": {
    "scrolled": false
   },
   "outputs": [
    {
     "name": "stdout",
     "output_type": "stream",
     "text": [
      "Frequencies: [1, 7]\n",
      " Radii: [1, 0.4]\n",
      " N: 500 \n",
      " Max F: 20\n"
     ]
    },
    {
     "data": {
      "text/html": [
       "\n",
       "\n",
       "\n",
       "\n",
       "\n",
       "\n",
       "  <div class=\"bk-root\" id=\"1fe81c66-510e-44da-9b91-0f8b7423c391\"></div>\n"
      ]
     },
     "metadata": {},
     "output_type": "display_data"
    },
    {
     "data": {
      "application/javascript": [
       "(function(root) {\n",
       "  function embed_document(root) {\n",
       "    \n",
       "  var docs_json = {\"ee72fcf3-4981-4ad2-a544-4794c602b133\":{\"roots\":{\"references\":[{\"attributes\":{\"plot\":null,\"text\":\"\"},\"id\":\"6a050ab0-652a-40ad-b1a0-3e9e32d65613\",\"type\":\"Title\"},{\"attributes\":{},\"id\":\"e035b352-2e3c-45cf-8b8b-eb60870a20b2\",\"type\":\"ResetTool\"},{\"attributes\":{},\"id\":\"d55d614c-2e5f-433a-8ba7-508ae1cfd60f\",\"type\":\"HelpTool\"},{\"attributes\":{\"bottom_units\":\"screen\",\"fill_alpha\":{\"value\":0.5},\"fill_color\":{\"value\":\"lightgrey\"},\"left_units\":\"screen\",\"level\":\"overlay\",\"line_alpha\":{\"value\":1.0},\"line_color\":{\"value\":\"black\"},\"line_dash\":[4,4],\"line_width\":{\"value\":2},\"plot\":null,\"render_mode\":\"css\",\"right_units\":\"screen\",\"top_units\":\"screen\"},\"id\":\"3f3de0ee-4530-42a5-a758-eb31a0568c4e\",\"type\":\"BoxAnnotation\"},{\"attributes\":{\"plot\":null,\"text\":\"\"},\"id\":\"555df229-d906-45ea-8e36-dad341bda525\",\"type\":\"Title\"},{\"attributes\":{},\"id\":\"99c1851c-06a5-47f7-8dc2-8d6e9a78db89\",\"type\":\"BasicTickFormatter\"},{\"attributes\":{},\"id\":\"63fb9392-7647-42a2-9315-4027dfa8303e\",\"type\":\"BasicTickFormatter\"},{\"attributes\":{},\"id\":\"f762edca-0a9d-4b50-91d3-ad0c63e89742\",\"type\":\"BasicTickFormatter\"},{\"attributes\":{},\"id\":\"eeade0b5-aef5-48d7-9078-7fcb85b3935b\",\"type\":\"BasicTickFormatter\"},{\"attributes\":{},\"id\":\"5b88f253-6c25-406c-aa7a-7d8422485c8b\",\"type\":\"Selection\"},{\"attributes\":{},\"id\":\"2057671f-0ccd-4432-8c62-abd46e77c493\",\"type\":\"UnionRenderers\"},{\"attributes\":{\"active_drag\":\"auto\",\"active_inspect\":\"auto\",\"active_multi\":null,\"active_scroll\":\"auto\",\"active_tap\":\"auto\",\"tools\":[{\"id\":\"6f74756e-3d81-46dd-a95b-7c0e93c5a2ba\",\"type\":\"PanTool\"},{\"id\":\"0278d752-5843-49a1-9a95-7116249771fc\",\"type\":\"WheelZoomTool\"},{\"id\":\"eccb4403-5740-4902-9f8b-771df0050d3d\",\"type\":\"BoxZoomTool\"},{\"id\":\"b9ce1e83-d790-477b-b2d6-7fbd4cb1adde\",\"type\":\"SaveTool\"},{\"id\":\"6aecae47-dfff-4d31-b12d-618fe320e41d\",\"type\":\"ResetTool\"},{\"id\":\"8bab6941-2c37-44a7-bd29-8497381815e8\",\"type\":\"HelpTool\"}]},\"id\":\"62ae34c5-5a62-485a-aefa-e81090a7f3ee\",\"type\":\"Toolbar\"},{\"attributes\":{},\"id\":\"7b504623-2790-4263-8de8-f523cf944469\",\"type\":\"UnionRenderers\"},{\"attributes\":{},\"id\":\"bf409a74-88a8-40e0-a22f-5e375303a1b3\",\"type\":\"Selection\"},{\"attributes\":{\"data_source\":{\"id\":\"84b0e55d-1d89-4c14-b066-3c05841f4771\",\"type\":\"ColumnDataSource\"},\"glyph\":{\"id\":\"80c5381a-1014-4508-a303-9eb62b5f7463\",\"type\":\"Line\"},\"hover_glyph\":null,\"muted_glyph\":null,\"nonselection_glyph\":{\"id\":\"dacf72d9-31a2-4f2e-b73c-c27dbbad2777\",\"type\":\"Line\"},\"selection_glyph\":null,\"view\":{\"id\":\"02263cba-9048-4a81-83c5-d1c3d9a3229e\",\"type\":\"CDSView\"}},\"id\":\"3216a1dc-e66c-4f68-931d-12e24cfa5a96\",\"type\":\"GlyphRenderer\"},{\"attributes\":{},\"id\":\"f9afa6c6-814a-4c89-a8ec-308047dbf5af\",\"type\":\"UnionRenderers\"},{\"attributes\":{\"callback\":null},\"id\":\"1c36e17d-b18f-45e8-9af5-1694d8bf5fa9\",\"type\":\"DataRange1d\"},{\"attributes\":{},\"id\":\"fb81bbbd-1354-4176-9e07-9249f44c99e1\",\"type\":\"Selection\"},{\"attributes\":{},\"id\":\"a910c726-0c4a-49e6-a20c-f6fa231eeb0d\",\"type\":\"BasicTicker\"},{\"attributes\":{},\"id\":\"4e1a4853-9b6a-49c9-9dee-7093ffb874e7\",\"type\":\"UnionRenderers\"},{\"attributes\":{\"callback\":null},\"id\":\"500b6d1d-e225-4185-9fe3-e72550d4e54f\",\"type\":\"DataRange1d\"},{\"attributes\":{},\"id\":\"09373639-e618-4426-8d23-057d184c98fb\",\"type\":\"Selection\"},{\"attributes\":{},\"id\":\"04cc7da3-466e-4369-947a-7fe2c9eb3465\",\"type\":\"LinearScale\"},{\"attributes\":{},\"id\":\"94008de1-6b1c-469a-95a3-0b6cccfca423\",\"type\":\"UnionRenderers\"},{\"attributes\":{},\"id\":\"2d93d1ad-6e88-412a-a5a4-1921f26f7824\",\"type\":\"LinearScale\"},{\"attributes\":{},\"id\":\"b3ed47b6-3294-4ac8-b5bf-59e47f31837d\",\"type\":\"Selection\"},{\"attributes\":{\"line_color\":\"#1f77b4\",\"x\":{\"field\":\"x\"},\"y\":{\"field\":\"y\"}},\"id\":\"80c5381a-1014-4508-a303-9eb62b5f7463\",\"type\":\"Line\"},{\"attributes\":{\"formatter\":{\"id\":\"63fb9392-7647-42a2-9315-4027dfa8303e\",\"type\":\"BasicTickFormatter\"},\"plot\":{\"id\":\"99ac1c52-9094-4bb4-8980-7f16d30bb31e\",\"subtype\":\"Figure\",\"type\":\"Plot\"},\"ticker\":{\"id\":\"512cd3a9-f31a-487c-9d5b-31ec245fe02b\",\"type\":\"BasicTicker\"}},\"id\":\"2afee948-b3f6-4ef5-9b5d-88b79a75d837\",\"type\":\"LinearAxis\"},{\"attributes\":{},\"id\":\"512cd3a9-f31a-487c-9d5b-31ec245fe02b\",\"type\":\"BasicTicker\"},{\"attributes\":{\"formatter\":{\"id\":\"99c1851c-06a5-47f7-8dc2-8d6e9a78db89\",\"type\":\"BasicTickFormatter\"},\"plot\":{\"id\":\"99ac1c52-9094-4bb4-8980-7f16d30bb31e\",\"subtype\":\"Figure\",\"type\":\"Plot\"},\"ticker\":{\"id\":\"a910c726-0c4a-49e6-a20c-f6fa231eeb0d\",\"type\":\"BasicTicker\"}},\"id\":\"6e77f419-344d-4036-acc4-d143a4c6e7c7\",\"type\":\"LinearAxis\"},{\"attributes\":{\"dimension\":1,\"plot\":{\"id\":\"99ac1c52-9094-4bb4-8980-7f16d30bb31e\",\"subtype\":\"Figure\",\"type\":\"Plot\"},\"ticker\":{\"id\":\"a910c726-0c4a-49e6-a20c-f6fa231eeb0d\",\"type\":\"BasicTicker\"}},\"id\":\"c7087576-24b6-47dd-b8ad-3f7446bfdd6f\",\"type\":\"Grid\"},{\"attributes\":{\"line_alpha\":0.1,\"line_color\":\"#1f77b4\",\"x\":{\"field\":\"x\"},\"y\":{\"field\":\"y\"}},\"id\":\"dacf72d9-31a2-4f2e-b73c-c27dbbad2777\",\"type\":\"Line\"},{\"attributes\":{\"data_source\":{\"id\":\"1010d77c-3cff-4b71-aa1a-98d6aefe3833\",\"type\":\"ColumnDataSource\"},\"glyph\":{\"id\":\"8ab84400-339c-48c3-8835-e2e40130dac6\",\"type\":\"Circle\"},\"hover_glyph\":null,\"muted_glyph\":null,\"nonselection_glyph\":{\"id\":\"07afe90d-910f-4e56-a86e-24f34dd87d54\",\"type\":\"Circle\"},\"selection_glyph\":null,\"view\":{\"id\":\"eb38a510-1444-4e9b-938b-b838ab1ebdba\",\"type\":\"CDSView\"}},\"id\":\"ca0323a8-109a-4463-bd26-b392aa1b94f8\",\"type\":\"GlyphRenderer\"},{\"attributes\":{\"callback\":null,\"data\":{\"x\":[0,0],\"y\":[-2,2]},\"selected\":{\"id\":\"5b88f253-6c25-406c-aa7a-7d8422485c8b\",\"type\":\"Selection\"},\"selection_policy\":{\"id\":\"7b504623-2790-4263-8de8-f523cf944469\",\"type\":\"UnionRenderers\"}},\"id\":\"84b0e55d-1d89-4c14-b066-3c05841f4771\",\"type\":\"ColumnDataSource\"},{\"attributes\":{},\"id\":\"31845508-7d7d-462f-8081-b7b5f3a597db\",\"type\":\"LinearScale\"},{\"attributes\":{\"callback\":null,\"data\":{\"x\":[-2,2],\"y\":[0,0]},\"selected\":{\"id\":\"bf409a74-88a8-40e0-a22f-5e375303a1b3\",\"type\":\"Selection\"},\"selection_policy\":{\"id\":\"f9afa6c6-814a-4c89-a8ec-308047dbf5af\",\"type\":\"UnionRenderers\"}},\"id\":\"cc6276cd-3521-46dd-ac6f-1d48d35cdeb9\",\"type\":\"ColumnDataSource\"},{\"attributes\":{},\"id\":\"6f74756e-3d81-46dd-a95b-7c0e93c5a2ba\",\"type\":\"PanTool\"},{\"attributes\":{\"source\":{\"id\":\"84b0e55d-1d89-4c14-b066-3c05841f4771\",\"type\":\"ColumnDataSource\"}},\"id\":\"02263cba-9048-4a81-83c5-d1c3d9a3229e\",\"type\":\"CDSView\"},{\"attributes\":{},\"id\":\"0278d752-5843-49a1-9a95-7116249771fc\",\"type\":\"WheelZoomTool\"},{\"attributes\":{\"overlay\":{\"id\":\"6a4df57f-88ef-42d5-ac6e-a558461531e1\",\"type\":\"BoxAnnotation\"}},\"id\":\"eccb4403-5740-4902-9f8b-771df0050d3d\",\"type\":\"BoxZoomTool\"},{\"attributes\":{},\"id\":\"b9ce1e83-d790-477b-b2d6-7fbd4cb1adde\",\"type\":\"SaveTool\"},{\"attributes\":{},\"id\":\"6aecae47-dfff-4d31-b12d-618fe320e41d\",\"type\":\"ResetTool\"},{\"attributes\":{},\"id\":\"8bab6941-2c37-44a7-bd29-8497381815e8\",\"type\":\"HelpTool\"},{\"attributes\":{\"bottom_units\":\"screen\",\"fill_alpha\":{\"value\":0.5},\"fill_color\":{\"value\":\"lightgrey\"},\"left_units\":\"screen\",\"level\":\"overlay\",\"line_alpha\":{\"value\":1.0},\"line_color\":{\"value\":\"black\"},\"line_dash\":[4,4],\"line_width\":{\"value\":2},\"plot\":null,\"render_mode\":\"css\",\"right_units\":\"screen\",\"top_units\":\"screen\"},\"id\":\"6a4df57f-88ef-42d5-ac6e-a558461531e1\",\"type\":\"BoxAnnotation\"},{\"attributes\":{\"below\":[{\"id\":\"2afee948-b3f6-4ef5-9b5d-88b79a75d837\",\"type\":\"LinearAxis\"}],\"left\":[{\"id\":\"6e77f419-344d-4036-acc4-d143a4c6e7c7\",\"type\":\"LinearAxis\"}],\"plot_height\":400,\"plot_width\":400,\"renderers\":[{\"id\":\"2afee948-b3f6-4ef5-9b5d-88b79a75d837\",\"type\":\"LinearAxis\"},{\"id\":\"ab46d2a9-6cb3-4694-aeeb-79b817151e31\",\"type\":\"Grid\"},{\"id\":\"6e77f419-344d-4036-acc4-d143a4c6e7c7\",\"type\":\"LinearAxis\"},{\"id\":\"c7087576-24b6-47dd-b8ad-3f7446bfdd6f\",\"type\":\"Grid\"},{\"id\":\"6a4df57f-88ef-42d5-ac6e-a558461531e1\",\"type\":\"BoxAnnotation\"},{\"id\":\"3216a1dc-e66c-4f68-931d-12e24cfa5a96\",\"type\":\"GlyphRenderer\"},{\"id\":\"77778524-cf5e-46f0-8e4a-56f387c6f98a\",\"type\":\"GlyphRenderer\"},{\"id\":\"905af5d4-9b3a-4f0e-afb1-6dde41263c3a\",\"type\":\"GlyphRenderer\"},{\"id\":\"7d4d135e-58b1-4f50-9c21-ef4bdf4f45eb\",\"type\":\"GlyphRenderer\"}],\"title\":{\"id\":\"6a050ab0-652a-40ad-b1a0-3e9e32d65613\",\"type\":\"Title\"},\"toolbar\":{\"id\":\"62ae34c5-5a62-485a-aefa-e81090a7f3ee\",\"type\":\"Toolbar\"},\"x_range\":{\"id\":\"1c36e17d-b18f-45e8-9af5-1694d8bf5fa9\",\"type\":\"DataRange1d\"},\"x_scale\":{\"id\":\"04cc7da3-466e-4369-947a-7fe2c9eb3465\",\"type\":\"LinearScale\"},\"y_range\":{\"id\":\"500b6d1d-e225-4185-9fe3-e72550d4e54f\",\"type\":\"DataRange1d\"},\"y_scale\":{\"id\":\"2d93d1ad-6e88-412a-a5a4-1921f26f7824\",\"type\":\"LinearScale\"}},\"id\":\"99ac1c52-9094-4bb4-8980-7f16d30bb31e\",\"subtype\":\"Figure\",\"type\":\"Plot\"},{\"attributes\":{\"data_source\":{\"id\":\"cc6276cd-3521-46dd-ac6f-1d48d35cdeb9\",\"type\":\"ColumnDataSource\"},\"glyph\":{\"id\":\"b91da36f-a815-4af1-821c-a6523fffcce1\",\"type\":\"Line\"},\"hover_glyph\":null,\"muted_glyph\":null,\"nonselection_glyph\":{\"id\":\"d71ee43f-f31c-48f0-aed1-56d367799a9d\",\"type\":\"Line\"},\"selection_glyph\":null,\"view\":{\"id\":\"5c724581-169e-4468-af36-fd165f4a15e2\",\"type\":\"CDSView\"}},\"id\":\"77778524-cf5e-46f0-8e4a-56f387c6f98a\",\"type\":\"GlyphRenderer\"},{\"attributes\":{\"line_color\":\"#1f77b4\",\"x\":{\"field\":\"x\"},\"y\":{\"field\":\"y\"}},\"id\":\"b91da36f-a815-4af1-821c-a6523fffcce1\",\"type\":\"Line\"},{\"attributes\":{\"line_alpha\":0.1,\"line_color\":\"#1f77b4\",\"x\":{\"field\":\"x\"},\"y\":{\"field\":\"y\"}},\"id\":\"d71ee43f-f31c-48f0-aed1-56d367799a9d\",\"type\":\"Line\"},{\"attributes\":{\"source\":{\"id\":\"cc6276cd-3521-46dd-ac6f-1d48d35cdeb9\",\"type\":\"ColumnDataSource\"}},\"id\":\"5c724581-169e-4468-af36-fd165f4a15e2\",\"type\":\"CDSView\"},{\"attributes\":{\"callback\":null,\"data\":{\"x\":{\"__ndarray__\":\"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\",\"dtype\":\"float64\",\"shape\":[500]},\"y\":{\"__ndarray__\":\"AAAAAAAAAACp8o4h/WyoP2z3z+cMW7g/VcTDBu8twj+iYnaktRPIP26xdEhL1s0/7OydC7O20T9ERkDTiGjUP9pZIE7f/NY/eDLmwihw2T+sarNkGL/bPwUac8uo5t0/Awnb3iHk3z8I3TMUj9rgP1rg5cDHq+E/XlFHi+Fk4j9azHZYMgXjP3Ynu6VAjOM/uEAjccT54z8NCyzAp03kP36fYsMGiOQ/KBq8li+p5D/JlyGfobHkP2g8coYMouQ/SkH+10575D9SIztAdD7kP4SzKHOz7OM/zJaPvWuH4z/yUepFIhDjP+wFaQJ/iOI/N0MUakny4T/0tJvnZE/hP5vG2BTNoeA/yrv1jCPX3z9F6mLfpV3eP/Qp78t429w/+YXGGgNV2z+C7hPssc7ZPyFmUebvTNg/UFSVaRzU1j9G/0jZgmjVPxzRhw1SDtQ/oogY/ZPJ0j+IaYGwJZ7RPyHGJ46vj9A/IO11HTxDzz+gtLjQNa7NP8zjFXwNZsw/HpOmv+Zvyz88sEtOPdDKP0auAfPbiso/GKyi9NSiyj8C3CjnexrLP1hqr/Zg88s/OFeEtU0uzT+AeJ9zQ8vOPzwKZJG9ZNA/u57QY7OT0T9ZsGE6WvHSPxu0/mQpfNQ/hLRrdzsy1j/MB0H+URHYPwVPQ+TZFto/YIBof/A/3D+fzoo7aYnePyoNyevpd+A/bVRdlMG34T9RLksrSgLjP8BVu0B7VeQ/+nMNYjmv5T+84mRAWg3nP7LYs/Sobeg/zmnTWOrN6T8hGA1t4SvrP38PYsFThew/6rzU2Q3Y7T/9UwOF5yHvP8F0Pg5kMPA/SnAzU1XJ8D/dkiLo0FrxP+JQgt3t4/E/ZephyNJj8j+1eKBut9nyP2shJ1HmRPM/qRwaEb6k8z/1iz2tsvjzP7jnGZVOQPQ/sGy/jzN79D9gzF90G6n0P5LFULPYyfQ/xn5orlbd9D+aygTgmeP0P/IlcNC/3PQ/dYC52f7I9D8k93W6paj0P+zTRPgafPQ/3aNNE9xD9D/SS02MfAD0P8r2IL+ksvM/ZNoTlBBb8z/Gb4YKjvryP0dC0p/7kfI/cECUlUYi8j8WBMgaaazxP9pLWFtoMfE/K2/7eVKy8D/zjF14PDDwP114eiOAWO8/17J0GPNO7j927VEKC0btP9aiiHn9P+w/49c9y/c+6z+0CEv4GkXqP0pF9VR3VOk/YxOweQhv6D+6PgVVsZbnP0BMaW44zeY/0GtjYUQU5j/VPwCYWG3lP8WICUvS2eQ/yKHyzeVa5D9a3tMrnPHjP6pgLhrRnuM/dC6IRTFj4z+wbj77OD/jPzMzMzMzM+M/sG4++zg/4z90LohFMWPjP6pgLhrRnuM/Wd7TK5zx4z/HofLN5VrkP8SICUvS2eQ/1z8AmFht5T/Oa2NhRBTmP0JMaW44zeY/tj4FVbGW5z9lE7B5CG/oP0xF9VR3VOk/sQhL+BpF6j/m1z3L9z7rP9miiHn9P+w/eu1RCgtG7T/TsnQY807uP2B4eiOAWO8/8YxdeDww8D8nb/t5UrLwP9lLWFtoMfE/FQTIGmms8T9vQJSVRiLyP0ZC0p/7kfI/xW+GCo768j9i2hOUEFvzP8n2IL+ksvM/0UtNjHwA9D/co00T3EP0P+vTRPgafPQ/JPd1uqWo9D91gLnZ/sj0P/IlcNC/3PQ/msoE4Jnj9D/GfmiuVt30P5PFULPYyfQ/YsxfdBup9D+wbL+PM3v0P7fnGZVOQPQ/84s9rbL48z+qHBoRvqTzP20hJ1HmRPM/tHigbrfZ8j9j6mHI0mPyP95Qgt3t4/E/35Ii6NBa8T9McDNTVcnwP790Pg5kMPA/+VMDhech7z/tvNTZDdjtP4wPYsFThew/LxgNbeEr6z/SadNY6s3pP7XYs/Sobeg/uOJkQFoN5z8IdA1iOa/lP8hVu0B7VeQ/Ui5LK0oC4z9nVF2UwbfhPygNyevpd+A/rM6KO2mJ3j9ngGh/8D/cPwFPQ+TZFto/0wdB/lER2D+WtGt3OzLWPyC0/mQpfNQ/V7BhOlrx0j+0ntBjs5PRPzwKZJG9ZNA/jHifc0PLzj88V4S1TS7NP1hqr/Zg88s/+tso53sayz8YrKL01KLKP0auAfPbiso/RLBLTj3Qyj8uk6a/5m/LP9DjFXwNZsw/nLS40DWuzT8m7XUdPEPPPynGJ46vj9A/hmmBsCWe0T+piBj9k8nSPx3Rhw1SDtQ/Pv9I2YJo1T9QVJVpHNTWPxJmUebvTNg/fe4T7LHO2T/+hcYaA1XbP/Ep78t429w/Mupi36Vd3j/Eu/WMI9ffP5zG2BTNoeA/8bSb52RP4T84QxRqSfLhP+cFaQJ/iOI/8FHqRSIQ4z/Nlo+9a4fjP4WzKHOz7OM/TCM7QHQ+5D9IQf7XTnvkP2o8coYMouQ/y5chn6Gx5D8pGryWL6nkP36fYsMGiOQ/DAsswKdN5D+3QCNxxPnjP3gnu6VAjOM/W8x2WDIF4z9eUUeL4WTiP1jg5cDHq+E/Ad0zFI/a4D8BCdveIeTfPwgac8uo5t0/vmqzZBi/2z+BMubCKHDZP9pZIE7f/NY/TUZA04ho1D8I7Z0Ls7bRP42xdEhL1s0/qWJ2pLUTyD9CxMMG7y3CP5T3z+cMW7g/WPOOIf1sqD/UvbnjPcTAPNPyjiH9bKi/UffP5wxbuL8hxMMG7y3Cv4pidqS1E8i/brF0SEvWzb/67J0Ls7bRvz5GQNOIaNS/zFkgTt/81r91MubCKHDZv7Jqs2QYv9u/BRpzy6jm3b/2CNveIeTfvwbdMxSP2uC/XODlwMer4b9iUUeL4WTiv1zMdlgyBeO/dSe7pUCM47+4QCNxxPnjvw0LLMCnTeS/gZ9iwwaI5L8oGryWL6nkv8qXIZ+hseS/aDxyhgyi5L9HQf7XTnvkv1IjO0B0PuS/h7Moc7Ps47/Klo+9a4fjv+1R6kUiEOO/7gVpAn+I4r80QxRqSfLhv/S0m+dkT+G/mMbYFM2h4L+6u/WMI9ffv0HqYt+lXd6/+Snvy3jb3L/0hcYaA1Xbv3LuE+yxztm/IWZR5u9M2L9pVJVpHNTWv1f/SNmCaNW/JNGHDVIO1L+wiBj9k8nSv4xpgbAlntG/LcYnjq+P0L8u7XUdPEPPv6S0uNA1rs2/1uMVfA1mzL8wk6a/5m/Lv0SwS0490Mq/RK4B89uKyr8WrKL01KLKv/bbKOd7Gsu/Umqv9mDzy780V4S1TS7Nv4B4n3NDy86/NQpkkb1k0L+sntBjs5PRv06wYTpa8dK/FrT+ZCl81L+NtGt3OzLWv8gHQf5REdi/9k5D5NkW2r9agGh/8D/cv5/Oijtpid6/Ig3J6+l34L9gVF2Uwbfhv0suSytKAuO/wFW7QHtV5L8AdA1iOa/lv8biZEBaDee/ttiz9Kht6L+7adNY6s3pvxgYDW3hK+u/ew9iwVOF7L/gvNTZDdjtv/pTA4XnIe+/w3Q+DmQw8L9QcDNTVcnwv+WSIujQWvG/5FCC3e3j8b9q6mHI0mPyv7J4oG632fK/ayEnUeZE87+mHBoRvqTzv/SLPa2y+PO/uecZlU5A9L+xbL+PM3v0v2LMX3QbqfS/k8VQs9jJ9L/GfmiuVt30v5rKBOCZ4/S/8iVw0L/c9L92gLnZ/sj0vyX3dbqlqPS/6tNE+Bp89L/bo00T3EP0v81LTYx8APS/x/Ygv6Sy879e2hOUEFvzv8dvhgqO+vK/SELSn/uR8r92QJSVRiLyvyMEyBpprPG/5EtYW2gx8b8vb/t5UrLwv/SMXXg8MPC/YHh6I4BY77/ZsnQY807uv3ntUQoLRu2/06KIef0/7L/n1z3L9z7rv8gIS/gaReq/VkX1VHdU6b9wE7B5CG/ov7s+BVWxlue/QkxpbjjN5r/Ka2NhRBTmv9A/AJhYbeW/yogJS9LZ5L/HofLN5Vrkv2Le0yuc8eO/rWAuGtGe4792LohFMWPjv7BuPvs4P+O/MzMzMzMz47+wbj77OD/jv3YuiEUxY+O/qGAuGtGe479a3tMrnPHjv76h8s3lWuS/v4gJS9LZ5L/SPwCYWG3lv8xrY2FEFOa/RExpbjjN5r+/PgVVsZbnv3ITsHkIb+i/Q0X1VHdU6b+0CEv4GkXqv9LXPcv3Puu/yqKIef0/7L9x7VEKC0btv9GydBjzTu6/ZHh6I4BY77/3jF14PDDwvzJv+3lSsvC/2ktYW2gx8b8ZBMgaaazxv3JAlJVGIvK/RULSn/uR8r/Eb4YKjvryv2TaE5QQW/O/zPYgv6Sy87/WS02MfAD0v+KjTRPcQ/S/6tNE+Bp89L8l93W6paj0v3WAudn+yPS/8iVw0L/c9L+aygTgmeP0v8Z+aK5W3fS/ksVQs9jJ9L9gzF90G6n0v61sv48ze/S/tucZlU5A9L/yiz2tsvjzv6UcGhG+pPO/biEnUeZE87+1eKBut9nyv2/qYcjSY/K/6FCC3e3j8b/kkiLo0Frxv05wM1NVyfC/znQ+DmQw8L8RVAOF5yHvv/e81NkN2O2/hg9iwVOF7L8kGA1t4Svrv8Zp01jqzem/wtiz9Kht6L/F4mRAWg3nv/9zDWI5r+W/2FW7QHtV5L9iLksrSgLjv3ZUXZTBt+G/LA3J6+l34L+Yzoo7aYnev1SAaH/wP9y/H09D5NkW2r/fB0H+URHYv420a3c7Mta/MbT+ZCl81L9lsGE6WvHSv7+e0GOzk9G/Pgpkkb1k0L9+eJ9zQ8vOvzBXhLVNLs2/ZGqv9mDzy78I3CjnexrLvyasovTUosq/Nq4B89uKyr8usEtOPdDKvxSTpr/mb8u/zOMVfA1mzL+otLjQNa7NvzLtdR08Q8+/M8Ynjq+P0L+KaYGwJZ7Rv6yIGP2TydK/AtGHDVIO1L80/0jZgmjVv0RUlWkc1Na/IGZR5u9M2L+L7hPssc7ZvwyGxhoDVdu/Eirvy3jb3L9H6mLfpV3ev9i79Ywj19+/jsbYFM2h4L/stJvnZE/hvzJDFGpJ8uG/7AVpAn+I4r/2UepFIhDjv9KWj71rh+O/jrMoc7Ps479UIztAdD7kv09B/tdOe+S/ZDxyhgyi5L/GlyGfobHkvyYavJYvqeS/gJ9iwwaI5L8PCyzAp03kv7xAI3HE+eO/eCe7pUCM479azHZYMgXjv11RR4vhZOK/XuDlwMer4b8Q3TMUj9rgvycJ294h5N+/Jhpzy6jm3b/EarNkGL/bv4gy5sIocNm/4FkgTt/81r9ARkDTiGjUv9zsnQuzttG/jLF0SEvWzb/KYnaktRPIv8XEwwbvLcK/GvjP5wxbuL+c844h/Wyovw==\",\"dtype\":\"float64\",\"shape\":[500]}},\"selected\":{\"id\":\"fb81bbbd-1354-4176-9e07-9249f44c99e1\",\"type\":\"Selection\"},\"selection_policy\":{\"id\":\"4e1a4853-9b6a-49c9-9dee-7093ffb874e7\",\"type\":\"UnionRenderers\"}},\"id\":\"bf09fc3c-50aa-44b6-8370-3a067c32f985\",\"type\":\"ColumnDataSource\"},{\"attributes\":{\"fill_color\":{\"value\":\"#1f77b4\"},\"line_color\":{\"value\":\"#1f77b4\"},\"x\":{\"field\":\"x\"},\"y\":{\"field\":\"y\"}},\"id\":\"c0abf057-8a05-4dc0-a40a-3cea8f32d8b8\",\"type\":\"Circle\"},{\"attributes\":{\"fill_alpha\":{\"value\":0.1},\"fill_color\":{\"value\":\"#1f77b4\"},\"line_alpha\":{\"value\":0.1},\"line_color\":{\"value\":\"#1f77b4\"},\"x\":{\"field\":\"x\"},\"y\":{\"field\":\"y\"}},\"id\":\"076ade1e-67d7-4f6d-a91a-7e92f88e5ce8\",\"type\":\"Circle\"},{\"attributes\":{\"data_source\":{\"id\":\"bf09fc3c-50aa-44b6-8370-3a067c32f985\",\"type\":\"ColumnDataSource\"},\"glyph\":{\"id\":\"c0abf057-8a05-4dc0-a40a-3cea8f32d8b8\",\"type\":\"Circle\"},\"hover_glyph\":null,\"muted_glyph\":null,\"nonselection_glyph\":{\"id\":\"076ade1e-67d7-4f6d-a91a-7e92f88e5ce8\",\"type\":\"Circle\"},\"selection_glyph\":null,\"view\":{\"id\":\"76c46564-6502-4b59-a80b-8769e53db01f\",\"type\":\"CDSView\"}},\"id\":\"905af5d4-9b3a-4f0e-afb1-6dde41263c3a\",\"type\":\"GlyphRenderer\"},{\"attributes\":{\"source\":{\"id\":\"bf09fc3c-50aa-44b6-8370-3a067c32f985\",\"type\":\"ColumnDataSource\"}},\"id\":\"76c46564-6502-4b59-a80b-8769e53db01f\",\"type\":\"CDSView\"},{\"attributes\":{\"callback\":null,\"data\":{\"x\":[5.684341886080802e-17],\"y\":[-1.7053025658242405e-16]},\"selected\":{\"id\":\"09373639-e618-4426-8d23-057d184c98fb\",\"type\":\"Selection\"},\"selection_policy\":{\"id\":\"94008de1-6b1c-469a-95a3-0b6cccfca423\",\"type\":\"UnionRenderers\"}},\"id\":\"1bf783ef-b47e-4b0b-a7d1-96dc197257cd\",\"type\":\"ColumnDataSource\"},{\"attributes\":{\"fill_color\":{\"value\":\"red\"},\"line_color\":{\"value\":\"red\"},\"size\":{\"units\":\"screen\",\"value\":8},\"x\":{\"field\":\"x\"},\"y\":{\"field\":\"y\"}},\"id\":\"0fd0e809-98af-4ef0-9b1e-5a55c4d3af60\",\"type\":\"Circle\"},{\"attributes\":{\"fill_alpha\":{\"value\":0.1},\"fill_color\":{\"value\":\"#1f77b4\"},\"line_alpha\":{\"value\":0.1},\"line_color\":{\"value\":\"#1f77b4\"},\"size\":{\"units\":\"screen\",\"value\":8},\"x\":{\"field\":\"x\"},\"y\":{\"field\":\"y\"}},\"id\":\"0eda97b2-718c-446f-a30b-fe19706cc9fa\",\"type\":\"Circle\"},{\"attributes\":{\"data_source\":{\"id\":\"1bf783ef-b47e-4b0b-a7d1-96dc197257cd\",\"type\":\"ColumnDataSource\"},\"glyph\":{\"id\":\"0fd0e809-98af-4ef0-9b1e-5a55c4d3af60\",\"type\":\"Circle\"},\"hover_glyph\":null,\"muted_glyph\":null,\"nonselection_glyph\":{\"id\":\"0eda97b2-718c-446f-a30b-fe19706cc9fa\",\"type\":\"Circle\"},\"selection_glyph\":null,\"view\":{\"id\":\"1eda6909-bc07-47ff-a6c9-c6e22a4e19a6\",\"type\":\"CDSView\"}},\"id\":\"7d4d135e-58b1-4f50-9c21-ef4bdf4f45eb\",\"type\":\"GlyphRenderer\"},{\"attributes\":{\"source\":{\"id\":\"1bf783ef-b47e-4b0b-a7d1-96dc197257cd\",\"type\":\"ColumnDataSource\"}},\"id\":\"1eda6909-bc07-47ff-a6c9-c6e22a4e19a6\",\"type\":\"CDSView\"},{\"attributes\":{\"below\":[{\"id\":\"b1397b25-9b28-41cc-96f6-2f79497b1c3b\",\"type\":\"LinearAxis\"}],\"left\":[{\"id\":\"8e6fd0b5-ac49-4e37-acef-b8e6729782a1\",\"type\":\"LinearAxis\"}],\"plot_height\":150,\"plot_width\":400,\"renderers\":[{\"id\":\"b1397b25-9b28-41cc-96f6-2f79497b1c3b\",\"type\":\"LinearAxis\"},{\"id\":\"6ca60dff-2350-471f-9309-232bb27876d5\",\"type\":\"Grid\"},{\"id\":\"8e6fd0b5-ac49-4e37-acef-b8e6729782a1\",\"type\":\"LinearAxis\"},{\"id\":\"056dec25-2100-4013-96e7-72038e311fb5\",\"type\":\"Grid\"},{\"id\":\"3f3de0ee-4530-42a5-a758-eb31a0568c4e\",\"type\":\"BoxAnnotation\"},{\"id\":\"ca0323a8-109a-4463-bd26-b392aa1b94f8\",\"type\":\"GlyphRenderer\"}],\"title\":{\"id\":\"555df229-d906-45ea-8e36-dad341bda525\",\"type\":\"Title\"},\"toolbar\":{\"id\":\"9f17f851-ae14-413c-b198-bba7efbe348a\",\"type\":\"Toolbar\"},\"x_range\":{\"id\":\"de05d1d7-0379-437d-acef-77d556219038\",\"type\":\"Range1d\"},\"x_scale\":{\"id\":\"b7fe6314-fe80-4587-82e7-b4d2604c45e8\",\"type\":\"LinearScale\"},\"y_range\":{\"id\":\"9ac38b3b-fce9-4cdc-add2-1cdb056b71e6\",\"type\":\"Range1d\"},\"y_scale\":{\"id\":\"31845508-7d7d-462f-8081-b7b5f3a597db\",\"type\":\"LinearScale\"}},\"id\":\"e060f6d4-88a9-408f-a754-b8306e47dfaa\",\"subtype\":\"Figure\",\"type\":\"Plot\"},{\"attributes\":{\"plot\":{\"id\":\"99ac1c52-9094-4bb4-8980-7f16d30bb31e\",\"subtype\":\"Figure\",\"type\":\"Plot\"},\"ticker\":{\"id\":\"512cd3a9-f31a-487c-9d5b-31ec245fe02b\",\"type\":\"BasicTicker\"}},\"id\":\"ab46d2a9-6cb3-4694-aeeb-79b817151e31\",\"type\":\"Grid\"},{\"attributes\":{\"active_drag\":\"auto\",\"active_inspect\":\"auto\",\"active_multi\":null,\"active_scroll\":\"auto\",\"active_tap\":\"auto\",\"tools\":[{\"id\":\"4c436846-49b7-48dd-b955-77466d5dbc37\",\"type\":\"PanTool\"},{\"id\":\"cd4c9ab4-8a18-4b5c-9ca4-c50cd5f16f82\",\"type\":\"WheelZoomTool\"},{\"id\":\"c5003836-ab26-4672-b574-db5ac17ddf46\",\"type\":\"BoxZoomTool\"},{\"id\":\"8c000412-77c2-4f2f-9d96-2b8825dde2b4\",\"type\":\"SaveTool\"},{\"id\":\"e035b352-2e3c-45cf-8b8b-eb60870a20b2\",\"type\":\"ResetTool\"},{\"id\":\"d55d614c-2e5f-433a-8ba7-508ae1cfd60f\",\"type\":\"HelpTool\"}]},\"id\":\"9f17f851-ae14-413c-b198-bba7efbe348a\",\"type\":\"Toolbar\"},{\"attributes\":{\"callback\":null,\"end\":21,\"start\":-1},\"id\":\"de05d1d7-0379-437d-acef-77d556219038\",\"type\":\"Range1d\"},{\"attributes\":{\"formatter\":{\"id\":\"f762edca-0a9d-4b50-91d3-ad0c63e89742\",\"type\":\"BasicTickFormatter\"},\"plot\":{\"id\":\"e060f6d4-88a9-408f-a754-b8306e47dfaa\",\"subtype\":\"Figure\",\"type\":\"Plot\"},\"ticker\":{\"id\":\"e49ac39e-ad4b-4483-8d3e-d2fd4dea9ab3\",\"type\":\"BasicTicker\"}},\"id\":\"b1397b25-9b28-41cc-96f6-2f79497b1c3b\",\"type\":\"LinearAxis\"},{\"attributes\":{\"callback\":null,\"end\":2},\"id\":\"9ac38b3b-fce9-4cdc-add2-1cdb056b71e6\",\"type\":\"Range1d\"},{\"attributes\":{},\"id\":\"b7fe6314-fe80-4587-82e7-b4d2604c45e8\",\"type\":\"LinearScale\"},{\"attributes\":{\"fill_color\":{\"value\":\"red\"},\"line_color\":{\"value\":\"red\"},\"size\":{\"units\":\"screen\",\"value\":8},\"x\":{\"field\":\"x\"},\"y\":{\"field\":\"y\"}},\"id\":\"8ab84400-339c-48c3-8835-e2e40130dac6\",\"type\":\"Circle\"},{\"attributes\":{\"plot\":{\"id\":\"e060f6d4-88a9-408f-a754-b8306e47dfaa\",\"subtype\":\"Figure\",\"type\":\"Plot\"},\"ticker\":{\"id\":\"e49ac39e-ad4b-4483-8d3e-d2fd4dea9ab3\",\"type\":\"BasicTicker\"}},\"id\":\"6ca60dff-2350-471f-9309-232bb27876d5\",\"type\":\"Grid\"},{\"attributes\":{},\"id\":\"e49ac39e-ad4b-4483-8d3e-d2fd4dea9ab3\",\"type\":\"BasicTicker\"},{\"attributes\":{\"formatter\":{\"id\":\"eeade0b5-aef5-48d7-9078-7fcb85b3935b\",\"type\":\"BasicTickFormatter\"},\"plot\":{\"id\":\"e060f6d4-88a9-408f-a754-b8306e47dfaa\",\"subtype\":\"Figure\",\"type\":\"Plot\"},\"ticker\":{\"id\":\"03d24d13-dcbf-450d-a873-a67cef1baee0\",\"type\":\"BasicTicker\"}},\"id\":\"8e6fd0b5-ac49-4e37-acef-b8e6729782a1\",\"type\":\"LinearAxis\"},{\"attributes\":{},\"id\":\"03d24d13-dcbf-450d-a873-a67cef1baee0\",\"type\":\"BasicTicker\"},{\"attributes\":{\"dimension\":1,\"plot\":{\"id\":\"e060f6d4-88a9-408f-a754-b8306e47dfaa\",\"subtype\":\"Figure\",\"type\":\"Plot\"},\"ticker\":{\"id\":\"03d24d13-dcbf-450d-a873-a67cef1baee0\",\"type\":\"BasicTicker\"}},\"id\":\"056dec25-2100-4013-96e7-72038e311fb5\",\"type\":\"Grid\"},{\"attributes\":{\"fill_alpha\":{\"value\":0.1},\"fill_color\":{\"value\":\"#1f77b4\"},\"line_alpha\":{\"value\":0.1},\"line_color\":{\"value\":\"#1f77b4\"},\"size\":{\"units\":\"screen\",\"value\":8},\"x\":{\"field\":\"x\"},\"y\":{\"field\":\"y\"}},\"id\":\"07afe90d-910f-4e56-a86e-24f34dd87d54\",\"type\":\"Circle\"},{\"attributes\":{\"children\":[{\"id\":\"99ac1c52-9094-4bb4-8980-7f16d30bb31e\",\"subtype\":\"Figure\",\"type\":\"Plot\"},{\"id\":\"e060f6d4-88a9-408f-a754-b8306e47dfaa\",\"subtype\":\"Figure\",\"type\":\"Plot\"}]},\"id\":\"86c94cfd-4d79-4a36-bf11-3f2396f22919\",\"type\":\"Column\"},{\"attributes\":{\"callback\":null,\"data\":{\"x\":[0],\"y\":[0]},\"selected\":{\"id\":\"b3ed47b6-3294-4ac8-b5bf-59e47f31837d\",\"type\":\"Selection\"},\"selection_policy\":{\"id\":\"2057671f-0ccd-4432-8c62-abd46e77c493\",\"type\":\"UnionRenderers\"}},\"id\":\"1010d77c-3cff-4b71-aa1a-98d6aefe3833\",\"type\":\"ColumnDataSource\"},{\"attributes\":{\"source\":{\"id\":\"1010d77c-3cff-4b71-aa1a-98d6aefe3833\",\"type\":\"ColumnDataSource\"}},\"id\":\"eb38a510-1444-4e9b-938b-b838ab1ebdba\",\"type\":\"CDSView\"},{\"attributes\":{},\"id\":\"4c436846-49b7-48dd-b955-77466d5dbc37\",\"type\":\"PanTool\"},{\"attributes\":{},\"id\":\"8c000412-77c2-4f2f-9d96-2b8825dde2b4\",\"type\":\"SaveTool\"},{\"attributes\":{},\"id\":\"cd4c9ab4-8a18-4b5c-9ca4-c50cd5f16f82\",\"type\":\"WheelZoomTool\"},{\"attributes\":{\"overlay\":{\"id\":\"3f3de0ee-4530-42a5-a758-eb31a0568c4e\",\"type\":\"BoxAnnotation\"}},\"id\":\"c5003836-ab26-4672-b574-db5ac17ddf46\",\"type\":\"BoxZoomTool\"}],\"root_ids\":[\"86c94cfd-4d79-4a36-bf11-3f2396f22919\"]},\"title\":\"Bokeh Application\",\"version\":\"0.13.0\"}};\n",
       "  var render_items = [{\"docid\":\"ee72fcf3-4981-4ad2-a544-4794c602b133\",\"notebook_comms_target\":\"1472cc70-26c5-4458-b5a3-71fd0fbbb31f\",\"roots\":{\"86c94cfd-4d79-4a36-bf11-3f2396f22919\":\"1fe81c66-510e-44da-9b91-0f8b7423c391\"}}];\n",
       "  root.Bokeh.embed.embed_items_notebook(docs_json, render_items);\n",
       "\n",
       "  }\n",
       "  if (root.Bokeh !== undefined) {\n",
       "    embed_document(root);\n",
       "  } else {\n",
       "    var attempts = 0;\n",
       "    var timer = setInterval(function(root) {\n",
       "      if (root.Bokeh !== undefined) {\n",
       "        embed_document(root);\n",
       "        clearInterval(timer);\n",
       "      }\n",
       "      attempts++;\n",
       "      if (attempts > 100) {\n",
       "        console.log(\"Bokeh: ERROR: Unable to run BokehJS code because BokehJS library is missing\")\n",
       "        clearInterval(timer);\n",
       "      }\n",
       "    }, 10, root)\n",
       "  }\n",
       "})(window);"
      ],
      "application/vnd.bokehjs_exec.v0+json": ""
     },
     "metadata": {
      "application/vnd.bokehjs_exec.v0+json": {
       "id": "86c94cfd-4d79-4a36-bf11-3f2396f22919"
      }
     },
     "output_type": "display_data"
    }
   ],
   "source": [
    "def combine_points(f, r, N):\n",
    "    '''\n",
    "    turn frequencies and radii into summed list of points\n",
    "    '''\n",
    "    theta = tau * np.linspace(0, 1, N + 1)[:-1]\n",
    "\n",
    "    points = None\n",
    "    for i in range(len(f)):\n",
    "        if points is not None:\n",
    "            points += make_points(f[i], r[i], theta)\n",
    "        else:\n",
    "            points = make_points(f[i], r[i], theta)\n",
    "    return points\n",
    "\n",
    "\n",
    "def animate_points_ft(frequencies, radii, N=500, max_f=20):\n",
    "    '''\n",
    "    plot animation of points, their rotations, and the fourier coefficients\n",
    "    inputs:\n",
    "    \n",
    "        frequencies (list) frequencies of rotations of all the sub-orbits\n",
    "        radii (list) of radii of all the sub-orbits\n",
    "        N (int) number of points in a rotation\n",
    "        max_f (int) max frequency to check fourier coefficients for\n",
    "        \n",
    "    !! len(frequencies) needs to be same as len(radii)\n",
    "    \n",
    "    '''\n",
    "    print(f'Frequencies: {frequencies}\\n Radii: {radii}\\n N: {N} \\n Max F: {max_f}')\n",
    "    points = combine_points(frequencies, radii, N)\n",
    "    x, y = points.real, points.imag\n",
    "    \n",
    "    w = 400\n",
    "    h = 150\n",
    "\n",
    "    # Top image:\n",
    "    p1 = figure(width=w, height=w)\n",
    "    p1.line(x=(0, 0), y=(-2, 2))\n",
    "    p1.line(x=(-2, 2), y=(0, 0))\n",
    "    r = p1.circle(x, y) \n",
    "    rm = p1.circle([x.mean()], [y.mean()], color='red', size=8)\n",
    "\n",
    "    # Bottom image:\n",
    "    p2 = figure(width=w, height=h, x_range=(-1, max_f + 1), y_range=(0, 2))\n",
    "    freqs = p2.circle([0], [int(x.mean())], color='red', size=8)\n",
    "\n",
    "    # get and explicit handle to update the next show cell with\n",
    "    target = show(column(p1, p2), notebook_handle=True)\n",
    "\n",
    "    # plot animation of each frequency along with the fourier components\n",
    "    f = 0\n",
    "    while True:\n",
    "        f += 1\n",
    "        if f == max_f:\n",
    "            break\n",
    "        p1.title.text = f'Frequency: {f}'\n",
    "\n",
    "        # get rotated coordinates\n",
    "        points_rot = rotate_points(points, f, N)\n",
    "        x = points_rot.real\n",
    "        y = points_rot.imag\n",
    "\n",
    "        # over-write rotated points in top plot\n",
    "        r.data_source.data['x'] = x\n",
    "        r.data_source.data['y'] = y\n",
    "        rm.data_source.data['x'] = [round(x.mean(), 3)]\n",
    "        rm.data_source.data['y'] = [round(y.mean(), 3)]\n",
    "\n",
    "        # append current frequency to freqs\n",
    "        x_freqs = freqs.data_source.data['x'] + [f]\n",
    "        y_freqs = freqs.data_source.data['y'] + [round(x.mean(), 3)]\n",
    "        freqs.data_source.data = {'x': x_freqs, 'y': y_freqs}\n",
    "\n",
    "        # push updates to the plot using the handle\n",
    "        push_notebook(handle=target)\n",
    "        time.sleep(.2)\n",
    "\n",
    "frequencies = [1, 7]\n",
    "radii = [1, .4]\n",
    "animate_points_ft(frequencies, radii)"
   ]
  },
  {
   "cell_type": "markdown",
   "metadata": {},
   "source": [
    "Neat!  We see the non-zero points on the top curve corresponding to the fourier coefficients in the bottom one.  Since the earth going around the sun is a much larger motion, its magnitude (or power) is larger than the moon's about the earth.  The curves of points post rotating I find amazing as well."
   ]
  },
  {
   "cell_type": "markdown",
   "metadata": {},
   "source": [
    "## Nyquist Frequency and Aliasing"
   ]
  },
  {
   "cell_type": "markdown",
   "metadata": {},
   "source": [
    "We can also notice aliasing if we adjust the number of samples `N` and increase the `max_f` frequency at which we search.  Lets try setting `N` to something smaller and scan frequencies above `N`.  We will see repetitions in the fourier components.  This shows another underlying feature of fourier transforms: discrete in one space (here, time) means periodic in the other domain (here, frequency).  In truth, we are discrete and periodic in both spaces in this example, but the aliasing (periodicity) of frequencies here is coming from the discreteness of our time samples."
   ]
  },
  {
   "cell_type": "code",
   "execution_count": 9,
   "metadata": {},
   "outputs": [
    {
     "name": "stdout",
     "output_type": "stream",
     "text": [
      "Frequencies: [1, 7]\n",
      " Radii: [1, 0.4]\n",
      " N: 20 \n",
      " Max F: 60\n"
     ]
    },
    {
     "data": {
      "text/html": [
       "\n",
       "\n",
       "\n",
       "\n",
       "\n",
       "\n",
       "  <div class=\"bk-root\" id=\"bc7d077f-bf72-4867-b4fd-8a261cbb70df\"></div>\n"
      ]
     },
     "metadata": {},
     "output_type": "display_data"
    },
    {
     "data": {
      "application/javascript": [
       "(function(root) {\n",
       "  function embed_document(root) {\n",
       "    \n",
       "  var docs_json = {\"e30af3f5-1348-4e78-889d-55f6105229f9\":{\"roots\":{\"references\":[{\"attributes\":{\"plot\":{\"id\":\"c067829d-cef5-4206-9bc6-606c9b813e3d\",\"subtype\":\"Figure\",\"type\":\"Plot\"},\"ticker\":{\"id\":\"de38d59f-3c5d-47dd-9fe9-80d5ff4226d9\",\"type\":\"BasicTicker\"}},\"id\":\"cf8c8007-8d54-4888-8d4d-4bbddff39e60\",\"type\":\"Grid\"},{\"attributes\":{\"fill_alpha\":{\"value\":0.1},\"fill_color\":{\"value\":\"#1f77b4\"},\"line_alpha\":{\"value\":0.1},\"line_color\":{\"value\":\"#1f77b4\"},\"size\":{\"units\":\"screen\",\"value\":8},\"x\":{\"field\":\"x\"},\"y\":{\"field\":\"y\"}},\"id\":\"b8852d2e-e75d-42b6-a858-ec12a700514f\",\"type\":\"Circle\"},{\"attributes\":{\"plot\":null,\"text\":\"\"},\"id\":\"024becd1-2d5d-4794-b553-e663d4254551\",\"type\":\"Title\"},{\"attributes\":{\"children\":[{\"id\":\"f0a6ac66-6b7d-4ef3-96d1-4976076f3bbc\",\"subtype\":\"Figure\",\"type\":\"Plot\"},{\"id\":\"c067829d-cef5-4206-9bc6-606c9b813e3d\",\"subtype\":\"Figure\",\"type\":\"Plot\"}]},\"id\":\"d83b5938-7ae3-4819-93f5-b250928242f2\",\"type\":\"Column\"},{\"attributes\":{},\"id\":\"f2b4d21b-6fe8-4994-8e7d-b8cd3cc70e1c\",\"type\":\"PanTool\"},{\"attributes\":{\"formatter\":{\"id\":\"8e6cf9c2-93ca-4cf0-b6e9-ffc9c1f38894\",\"type\":\"BasicTickFormatter\"},\"plot\":{\"id\":\"c067829d-cef5-4206-9bc6-606c9b813e3d\",\"subtype\":\"Figure\",\"type\":\"Plot\"},\"ticker\":{\"id\":\"b49966ca-3709-4011-9c6e-a29c4320603f\",\"type\":\"BasicTicker\"}},\"id\":\"80600e4f-2ede-4d0a-957f-7b5090539f5f\",\"type\":\"LinearAxis\"},{\"attributes\":{\"data_source\":{\"id\":\"44a5b73b-81e9-4f75-bc6d-02ba073aaf35\",\"type\":\"ColumnDataSource\"},\"glyph\":{\"id\":\"814b91e1-2931-4b55-8802-2926bf568d56\",\"type\":\"Circle\"},\"hover_glyph\":null,\"muted_glyph\":null,\"nonselection_glyph\":{\"id\":\"b8852d2e-e75d-42b6-a858-ec12a700514f\",\"type\":\"Circle\"},\"selection_glyph\":null,\"view\":{\"id\":\"a5083557-1edf-43ed-b235-22f7011d55a9\",\"type\":\"CDSView\"}},\"id\":\"5a8bbb1a-e941-43b4-891a-57977019c0b7\",\"type\":\"GlyphRenderer\"},{\"attributes\":{\"fill_color\":{\"value\":\"red\"},\"line_color\":{\"value\":\"red\"},\"size\":{\"units\":\"screen\",\"value\":8},\"x\":{\"field\":\"x\"},\"y\":{\"field\":\"y\"}},\"id\":\"814b91e1-2931-4b55-8802-2926bf568d56\",\"type\":\"Circle\"},{\"attributes\":{},\"id\":\"b49966ca-3709-4011-9c6e-a29c4320603f\",\"type\":\"BasicTicker\"},{\"attributes\":{\"dimension\":1,\"plot\":{\"id\":\"c067829d-cef5-4206-9bc6-606c9b813e3d\",\"subtype\":\"Figure\",\"type\":\"Plot\"},\"ticker\":{\"id\":\"b49966ca-3709-4011-9c6e-a29c4320603f\",\"type\":\"BasicTicker\"}},\"id\":\"60710842-82e9-4544-9a7e-df8f26f41936\",\"type\":\"Grid\"},{\"attributes\":{\"source\":{\"id\":\"44a5b73b-81e9-4f75-bc6d-02ba073aaf35\",\"type\":\"ColumnDataSource\"}},\"id\":\"a5083557-1edf-43ed-b235-22f7011d55a9\",\"type\":\"CDSView\"},{\"attributes\":{},\"id\":\"65fdd175-6253-4740-ac95-2cab4a52e054\",\"type\":\"WheelZoomTool\"},{\"attributes\":{},\"id\":\"7b9a5f10-b0a3-4804-ad18-9b3a2e39f600\",\"type\":\"ResetTool\"},{\"attributes\":{\"overlay\":{\"id\":\"0d96fec1-4281-4a04-9d30-0094169163d7\",\"type\":\"BoxAnnotation\"}},\"id\":\"f47af757-5c07-4c50-a389-84d05b865db6\",\"type\":\"BoxZoomTool\"},{\"attributes\":{},\"id\":\"e3dddff1-e9eb-4f19-a7ee-28bce50dff2c\",\"type\":\"SaveTool\"},{\"attributes\":{},\"id\":\"4b55a7b0-26ff-4265-a8f9-e31c05d6ed21\",\"type\":\"HelpTool\"},{\"attributes\":{\"bottom_units\":\"screen\",\"fill_alpha\":{\"value\":0.5},\"fill_color\":{\"value\":\"lightgrey\"},\"left_units\":\"screen\",\"level\":\"overlay\",\"line_alpha\":{\"value\":1.0},\"line_color\":{\"value\":\"black\"},\"line_dash\":[4,4],\"line_width\":{\"value\":2},\"plot\":null,\"render_mode\":\"css\",\"right_units\":\"screen\",\"top_units\":\"screen\"},\"id\":\"0d96fec1-4281-4a04-9d30-0094169163d7\",\"type\":\"BoxAnnotation\"},{\"attributes\":{},\"id\":\"153c710c-e669-43d7-b21b-cea886a503b5\",\"type\":\"BasicTickFormatter\"},{\"attributes\":{\"fill_alpha\":{\"value\":0.1},\"fill_color\":{\"value\":\"#1f77b4\"},\"line_alpha\":{\"value\":0.1},\"line_color\":{\"value\":\"#1f77b4\"},\"size\":{\"units\":\"screen\",\"value\":8},\"x\":{\"field\":\"x\"},\"y\":{\"field\":\"y\"}},\"id\":\"22cdf5d4-43a7-4356-8d37-77f4ba90c5f7\",\"type\":\"Circle\"},{\"attributes\":{},\"id\":\"956e9157-c1a8-49d1-a855-8acda4e01593\",\"type\":\"BasicTickFormatter\"},{\"attributes\":{},\"id\":\"c24e4caa-d01b-4570-bd2d-0a0c58c063a5\",\"type\":\"UnionRenderers\"},{\"attributes\":{\"callback\":null,\"data\":{\"x\":[0,0],\"y\":[-2,2]},\"selected\":{\"id\":\"50e05bb9-7a3e-431f-b2b7-3f4a8181ef00\",\"type\":\"Selection\"},\"selection_policy\":{\"id\":\"d471a938-e0c7-4ce5-bf6d-bf7c2448af34\",\"type\":\"UnionRenderers\"}},\"id\":\"08b58cc6-2222-4c84-88e0-f7ba0495effd\",\"type\":\"ColumnDataSource\"},{\"attributes\":{},\"id\":\"3fed9786-31ed-4bb4-b816-e9a8bcbb1692\",\"type\":\"BasicTickFormatter\"},{\"attributes\":{},\"id\":\"8e6cf9c2-93ca-4cf0-b6e9-ffc9c1f38894\",\"type\":\"BasicTickFormatter\"},{\"attributes\":{},\"id\":\"ed804777-eb9e-41db-b739-b87c01aa2c3c\",\"type\":\"BasicTicker\"},{\"attributes\":{},\"id\":\"50e05bb9-7a3e-431f-b2b7-3f4a8181ef00\",\"type\":\"Selection\"},{\"attributes\":{\"data_source\":{\"id\":\"08ab7327-8684-4edd-9a35-ca1dfa0a3ba5\",\"type\":\"ColumnDataSource\"},\"glyph\":{\"id\":\"196c4407-b4c4-4520-aa63-7362dd204fac\",\"type\":\"Circle\"},\"hover_glyph\":null,\"muted_glyph\":null,\"nonselection_glyph\":{\"id\":\"5c8d04d4-12d5-4d06-97cb-2fc3914e40f2\",\"type\":\"Circle\"},\"selection_glyph\":null,\"view\":{\"id\":\"123a38c2-844a-4033-a4be-0db77924ba45\",\"type\":\"CDSView\"}},\"id\":\"44406fe3-c329-4d6e-9e72-48e1fad8d9d6\",\"type\":\"GlyphRenderer\"},{\"attributes\":{},\"id\":\"d471a938-e0c7-4ce5-bf6d-bf7c2448af34\",\"type\":\"UnionRenderers\"},{\"attributes\":{\"formatter\":{\"id\":\"153c710c-e669-43d7-b21b-cea886a503b5\",\"type\":\"BasicTickFormatter\"},\"plot\":{\"id\":\"f0a6ac66-6b7d-4ef3-96d1-4976076f3bbc\",\"subtype\":\"Figure\",\"type\":\"Plot\"},\"ticker\":{\"id\":\"ed804777-eb9e-41db-b739-b87c01aa2c3c\",\"type\":\"BasicTicker\"}},\"id\":\"1b56e861-66b8-4131-876a-321aec9cc168\",\"type\":\"LinearAxis\"},{\"attributes\":{},\"id\":\"04a4f5e8-4c4c-49f6-acf7-dca63b14268f\",\"type\":\"UnionRenderers\"},{\"attributes\":{},\"id\":\"fb83825f-376a-44c5-91f2-aa4b0b07e517\",\"type\":\"ResetTool\"},{\"attributes\":{},\"id\":\"8f8cb6d0-8473-46ab-a792-39776216ae81\",\"type\":\"Selection\"},{\"attributes\":{\"dimension\":1,\"plot\":{\"id\":\"f0a6ac66-6b7d-4ef3-96d1-4976076f3bbc\",\"subtype\":\"Figure\",\"type\":\"Plot\"},\"ticker\":{\"id\":\"ed804777-eb9e-41db-b739-b87c01aa2c3c\",\"type\":\"BasicTicker\"}},\"id\":\"365bcefd-ff1c-423c-b849-db7380733227\",\"type\":\"Grid\"},{\"attributes\":{},\"id\":\"3e70f3bf-4ed1-4dbd-ae06-86eb9bfe1e5a\",\"type\":\"UnionRenderers\"},{\"attributes\":{\"callback\":null},\"id\":\"58f711fc-6428-4a93-9340-ade0e506762a\",\"type\":\"DataRange1d\"},{\"attributes\":{},\"id\":\"1d7bf4df-982c-48ee-a539-f8f3aa3d3045\",\"type\":\"Selection\"},{\"attributes\":{},\"id\":\"ff2f87f7-708d-4c97-bc40-c84fd43c34e8\",\"type\":\"SaveTool\"},{\"attributes\":{},\"id\":\"5630ff4c-3003-45f1-9c54-207ce3a64a1c\",\"type\":\"Selection\"},{\"attributes\":{\"callback\":null,\"data\":{\"x\":[-2,2],\"y\":[0,0]},\"selected\":{\"id\":\"8f8cb6d0-8473-46ab-a792-39776216ae81\",\"type\":\"Selection\"},\"selection_policy\":{\"id\":\"3e70f3bf-4ed1-4dbd-ae06-86eb9bfe1e5a\",\"type\":\"UnionRenderers\"}},\"id\":\"497df898-4015-4a39-a935-4d5a0ff5551d\",\"type\":\"ColumnDataSource\"},{\"attributes\":{},\"id\":\"c70327a0-32ab-462c-a510-e286e925cca0\",\"type\":\"UnionRenderers\"},{\"attributes\":{\"line_alpha\":0.1,\"line_color\":\"#1f77b4\",\"x\":{\"field\":\"x\"},\"y\":{\"field\":\"y\"}},\"id\":\"3febfd8e-20b9-401a-b299-263dd89c078b\",\"type\":\"Line\"},{\"attributes\":{\"fill_color\":{\"value\":\"#1f77b4\"},\"line_color\":{\"value\":\"#1f77b4\"},\"x\":{\"field\":\"x\"},\"y\":{\"field\":\"y\"}},\"id\":\"196c4407-b4c4-4520-aa63-7362dd204fac\",\"type\":\"Circle\"},{\"attributes\":{},\"id\":\"e6f65aca-abbe-4e8e-85e2-ba7dc9c6b120\",\"type\":\"Selection\"},{\"attributes\":{\"source\":{\"id\":\"08b58cc6-2222-4c84-88e0-f7ba0495effd\",\"type\":\"ColumnDataSource\"}},\"id\":\"f8d8c737-e51a-481a-b7c7-0ec5c046c997\",\"type\":\"CDSView\"},{\"attributes\":{\"callback\":null,\"data\":{\"x\":{\"__ndarray__\":\"ZmZmZmZm9j9zynsRAOnmP2QsW13h7uU/KUkqDI/77j9AgM5CQuGNv0E/viirxJ+8gH/OQkLhjT8pSSoMj/vuv2YsW13h7uW/bMp7EQDp5r9mZmZmZmb2v3DKexEA6ea/bCxbXeHu5b8vSSoMj/vuv4B/zkJC4Y0/xIOk1LJfu7yggc5CQuGNvzRJKgyP++4/dSxbXeHu5T9zynsRAOnmPw==\",\"dtype\":\"float64\",\"shape\":[20]},\"y\":{\"__ndarray__\":\"AAAAAAAAAABSIztAdD7kP0auAfPbiso/7bzU2Q3Y7T/Gb4YKjvryPzMzMzMzM+M/x2+GCo768j/tvNTZDdjtP0auAfPbiso/TCM7QHQ+5D/UvbnjPcTAPFIjO0B0PuS/Qq4B89uKyr/gvNTZDdjtv8dvhgqO+vK/MzMzMzMz47/Eb4YKjvryv9q81NkN2O2/Nq4B89uKyr9UIztAdD7kvw==\",\"dtype\":\"float64\",\"shape\":[20]}},\"selected\":{\"id\":\"1d7bf4df-982c-48ee-a539-f8f3aa3d3045\",\"type\":\"Selection\"},\"selection_policy\":{\"id\":\"04a4f5e8-4c4c-49f6-acf7-dca63b14268f\",\"type\":\"UnionRenderers\"}},\"id\":\"08ab7327-8684-4edd-9a35-ca1dfa0a3ba5\",\"type\":\"ColumnDataSource\"},{\"attributes\":{\"source\":{\"id\":\"3aa1d245-164d-4499-ab07-61a3ec0f09fa\",\"type\":\"ColumnDataSource\"}},\"id\":\"79343e4a-ca9f-4e6c-8860-5f660e4fcfbe\",\"type\":\"CDSView\"},{\"attributes\":{},\"id\":\"b8a2b50e-c739-4933-9ae8-5ddd8b28e2ae\",\"type\":\"HelpTool\"},{\"attributes\":{\"data_source\":{\"id\":\"497df898-4015-4a39-a935-4d5a0ff5551d\",\"type\":\"ColumnDataSource\"},\"glyph\":{\"id\":\"dab4be3f-14f1-46ea-b851-dea4e5fc8e47\",\"type\":\"Line\"},\"hover_glyph\":null,\"muted_glyph\":null,\"nonselection_glyph\":{\"id\":\"c6b3dff4-e5a0-4145-bb23-201637319185\",\"type\":\"Line\"},\"selection_glyph\":null,\"view\":{\"id\":\"7fb529e0-9757-4775-b7bb-6374cf0aca04\",\"type\":\"CDSView\"}},\"id\":\"a2aaf5a4-61ae-4aa0-a8be-211b55b83b21\",\"type\":\"GlyphRenderer\"},{\"attributes\":{},\"id\":\"8c445367-31e1-4b82-b810-d4ae9831b5c4\",\"type\":\"BasicTicker\"},{\"attributes\":{},\"id\":\"04310b3e-7ceb-4c99-affd-5d5b5eaaf4a5\",\"type\":\"PanTool\"},{\"attributes\":{},\"id\":\"fabd3b9e-a2c1-4fbd-bb4a-152d402d4511\",\"type\":\"WheelZoomTool\"},{\"attributes\":{\"bottom_units\":\"screen\",\"fill_alpha\":{\"value\":0.5},\"fill_color\":{\"value\":\"lightgrey\"},\"left_units\":\"screen\",\"level\":\"overlay\",\"line_alpha\":{\"value\":1.0},\"line_color\":{\"value\":\"black\"},\"line_dash\":[4,4],\"line_width\":{\"value\":2},\"plot\":null,\"render_mode\":\"css\",\"right_units\":\"screen\",\"top_units\":\"screen\"},\"id\":\"72c2a30b-3108-444b-a710-d42c46df6a72\",\"type\":\"BoxAnnotation\"},{\"attributes\":{\"formatter\":{\"id\":\"956e9157-c1a8-49d1-a855-8acda4e01593\",\"type\":\"BasicTickFormatter\"},\"plot\":{\"id\":\"f0a6ac66-6b7d-4ef3-96d1-4976076f3bbc\",\"subtype\":\"Figure\",\"type\":\"Plot\"},\"ticker\":{\"id\":\"8c445367-31e1-4b82-b810-d4ae9831b5c4\",\"type\":\"BasicTicker\"}},\"id\":\"3bc4bd8e-0a27-4061-b14c-878a1d0470fa\",\"type\":\"LinearAxis\"},{\"attributes\":{\"active_drag\":\"auto\",\"active_inspect\":\"auto\",\"active_multi\":null,\"active_scroll\":\"auto\",\"active_tap\":\"auto\",\"tools\":[{\"id\":\"04310b3e-7ceb-4c99-affd-5d5b5eaaf4a5\",\"type\":\"PanTool\"},{\"id\":\"fabd3b9e-a2c1-4fbd-bb4a-152d402d4511\",\"type\":\"WheelZoomTool\"},{\"id\":\"4d9844ab-f4c1-4539-bf97-a3418cb957bb\",\"type\":\"BoxZoomTool\"},{\"id\":\"ff2f87f7-708d-4c97-bc40-c84fd43c34e8\",\"type\":\"SaveTool\"},{\"id\":\"fb83825f-376a-44c5-91f2-aa4b0b07e517\",\"type\":\"ResetTool\"},{\"id\":\"b8a2b50e-c739-4933-9ae8-5ddd8b28e2ae\",\"type\":\"HelpTool\"}]},\"id\":\"fbfadacc-a11a-433c-8d11-51c7782a4953\",\"type\":\"Toolbar\"},{\"attributes\":{\"callback\":null,\"data\":{\"x\":[0],\"y\":[0]},\"selected\":{\"id\":\"e6f65aca-abbe-4e8e-85e2-ba7dc9c6b120\",\"type\":\"Selection\"},\"selection_policy\":{\"id\":\"c24e4caa-d01b-4570-bd2d-0a0c58c063a5\",\"type\":\"UnionRenderers\"}},\"id\":\"44a5b73b-81e9-4f75-bc6d-02ba073aaf35\",\"type\":\"ColumnDataSource\"},{\"attributes\":{\"data_source\":{\"id\":\"08b58cc6-2222-4c84-88e0-f7ba0495effd\",\"type\":\"ColumnDataSource\"},\"glyph\":{\"id\":\"559aad19-9138-44ce-9450-e21b196f7c5b\",\"type\":\"Line\"},\"hover_glyph\":null,\"muted_glyph\":null,\"nonselection_glyph\":{\"id\":\"3febfd8e-20b9-401a-b299-263dd89c078b\",\"type\":\"Line\"},\"selection_glyph\":null,\"view\":{\"id\":\"f8d8c737-e51a-481a-b7c7-0ec5c046c997\",\"type\":\"CDSView\"}},\"id\":\"cb473fbb-294b-4278-a50a-fbeb83baef8a\",\"type\":\"GlyphRenderer\"},{\"attributes\":{\"plot\":null,\"text\":\"\"},\"id\":\"9bbf0224-a09b-4225-a0ce-d9148e3bacd5\",\"type\":\"Title\"},{\"attributes\":{\"callback\":null},\"id\":\"27ebfc14-085f-44d5-a541-dd43bf8993c8\",\"type\":\"DataRange1d\"},{\"attributes\":{\"plot\":{\"id\":\"f0a6ac66-6b7d-4ef3-96d1-4976076f3bbc\",\"subtype\":\"Figure\",\"type\":\"Plot\"},\"ticker\":{\"id\":\"8c445367-31e1-4b82-b810-d4ae9831b5c4\",\"type\":\"BasicTicker\"}},\"id\":\"e979c968-6be8-4eda-8522-4be77337f7b4\",\"type\":\"Grid\"},{\"attributes\":{\"overlay\":{\"id\":\"72c2a30b-3108-444b-a710-d42c46df6a72\",\"type\":\"BoxAnnotation\"}},\"id\":\"4d9844ab-f4c1-4539-bf97-a3418cb957bb\",\"type\":\"BoxZoomTool\"},{\"attributes\":{\"below\":[{\"id\":\"3bc4bd8e-0a27-4061-b14c-878a1d0470fa\",\"type\":\"LinearAxis\"}],\"left\":[{\"id\":\"1b56e861-66b8-4131-876a-321aec9cc168\",\"type\":\"LinearAxis\"}],\"plot_height\":400,\"plot_width\":400,\"renderers\":[{\"id\":\"3bc4bd8e-0a27-4061-b14c-878a1d0470fa\",\"type\":\"LinearAxis\"},{\"id\":\"e979c968-6be8-4eda-8522-4be77337f7b4\",\"type\":\"Grid\"},{\"id\":\"1b56e861-66b8-4131-876a-321aec9cc168\",\"type\":\"LinearAxis\"},{\"id\":\"365bcefd-ff1c-423c-b849-db7380733227\",\"type\":\"Grid\"},{\"id\":\"72c2a30b-3108-444b-a710-d42c46df6a72\",\"type\":\"BoxAnnotation\"},{\"id\":\"cb473fbb-294b-4278-a50a-fbeb83baef8a\",\"type\":\"GlyphRenderer\"},{\"id\":\"a2aaf5a4-61ae-4aa0-a8be-211b55b83b21\",\"type\":\"GlyphRenderer\"},{\"id\":\"44406fe3-c329-4d6e-9e72-48e1fad8d9d6\",\"type\":\"GlyphRenderer\"},{\"id\":\"a8dc5e17-a8e2-43ca-9ef0-21a22ec56024\",\"type\":\"GlyphRenderer\"}],\"title\":{\"id\":\"9bbf0224-a09b-4225-a0ce-d9148e3bacd5\",\"type\":\"Title\"},\"toolbar\":{\"id\":\"fbfadacc-a11a-433c-8d11-51c7782a4953\",\"type\":\"Toolbar\"},\"x_range\":{\"id\":\"27ebfc14-085f-44d5-a541-dd43bf8993c8\",\"type\":\"DataRange1d\"},\"x_scale\":{\"id\":\"da666633-4138-4735-b643-6124027d2e9d\",\"type\":\"LinearScale\"},\"y_range\":{\"id\":\"58f711fc-6428-4a93-9340-ade0e506762a\",\"type\":\"DataRange1d\"},\"y_scale\":{\"id\":\"4a6c38fc-9b59-4698-a0f2-e06e758fb9f7\",\"type\":\"LinearScale\"}},\"id\":\"f0a6ac66-6b7d-4ef3-96d1-4976076f3bbc\",\"subtype\":\"Figure\",\"type\":\"Plot\"},{\"attributes\":{\"line_color\":\"#1f77b4\",\"x\":{\"field\":\"x\"},\"y\":{\"field\":\"y\"}},\"id\":\"dab4be3f-14f1-46ea-b851-dea4e5fc8e47\",\"type\":\"Line\"},{\"attributes\":{\"formatter\":{\"id\":\"3fed9786-31ed-4bb4-b816-e9a8bcbb1692\",\"type\":\"BasicTickFormatter\"},\"plot\":{\"id\":\"c067829d-cef5-4206-9bc6-606c9b813e3d\",\"subtype\":\"Figure\",\"type\":\"Plot\"},\"ticker\":{\"id\":\"de38d59f-3c5d-47dd-9fe9-80d5ff4226d9\",\"type\":\"BasicTicker\"}},\"id\":\"cb408ac4-f800-4275-b95c-beacd1f6f817\",\"type\":\"LinearAxis\"},{\"attributes\":{\"source\":{\"id\":\"497df898-4015-4a39-a935-4d5a0ff5551d\",\"type\":\"ColumnDataSource\"}},\"id\":\"7fb529e0-9757-4775-b7bb-6374cf0aca04\",\"type\":\"CDSView\"},{\"attributes\":{\"line_alpha\":0.1,\"line_color\":\"#1f77b4\",\"x\":{\"field\":\"x\"},\"y\":{\"field\":\"y\"}},\"id\":\"c6b3dff4-e5a0-4145-bb23-201637319185\",\"type\":\"Line\"},{\"attributes\":{},\"id\":\"9f0c8fef-b8c7-4ab1-bd31-12c8b54c1415\",\"type\":\"LinearScale\"},{\"attributes\":{\"fill_alpha\":{\"value\":0.1},\"fill_color\":{\"value\":\"#1f77b4\"},\"line_alpha\":{\"value\":0.1},\"line_color\":{\"value\":\"#1f77b4\"},\"x\":{\"field\":\"x\"},\"y\":{\"field\":\"y\"}},\"id\":\"5c8d04d4-12d5-4d06-97cb-2fc3914e40f2\",\"type\":\"Circle\"},{\"attributes\":{},\"id\":\"de38d59f-3c5d-47dd-9fe9-80d5ff4226d9\",\"type\":\"BasicTicker\"},{\"attributes\":{},\"id\":\"4a6c38fc-9b59-4698-a0f2-e06e758fb9f7\",\"type\":\"LinearScale\"},{\"attributes\":{\"line_color\":\"#1f77b4\",\"x\":{\"field\":\"x\"},\"y\":{\"field\":\"y\"}},\"id\":\"559aad19-9138-44ce-9450-e21b196f7c5b\",\"type\":\"Line\"},{\"attributes\":{},\"id\":\"da666633-4138-4735-b643-6124027d2e9d\",\"type\":\"LinearScale\"},{\"attributes\":{},\"id\":\"a00372b6-e1ff-4861-9221-85441ee24373\",\"type\":\"LinearScale\"},{\"attributes\":{\"active_drag\":\"auto\",\"active_inspect\":\"auto\",\"active_multi\":null,\"active_scroll\":\"auto\",\"active_tap\":\"auto\",\"tools\":[{\"id\":\"f2b4d21b-6fe8-4994-8e7d-b8cd3cc70e1c\",\"type\":\"PanTool\"},{\"id\":\"65fdd175-6253-4740-ac95-2cab4a52e054\",\"type\":\"WheelZoomTool\"},{\"id\":\"f47af757-5c07-4c50-a389-84d05b865db6\",\"type\":\"BoxZoomTool\"},{\"id\":\"e3dddff1-e9eb-4f19-a7ee-28bce50dff2c\",\"type\":\"SaveTool\"},{\"id\":\"7b9a5f10-b0a3-4804-ad18-9b3a2e39f600\",\"type\":\"ResetTool\"},{\"id\":\"4b55a7b0-26ff-4265-a8f9-e31c05d6ed21\",\"type\":\"HelpTool\"}]},\"id\":\"5a8d8389-271e-4049-9220-f1239c453d35\",\"type\":\"Toolbar\"},{\"attributes\":{\"callback\":null,\"end\":2},\"id\":\"c9b65675-8e25-4369-a4e3-32d598403111\",\"type\":\"Range1d\"},{\"attributes\":{\"below\":[{\"id\":\"cb408ac4-f800-4275-b95c-beacd1f6f817\",\"type\":\"LinearAxis\"}],\"left\":[{\"id\":\"80600e4f-2ede-4d0a-957f-7b5090539f5f\",\"type\":\"LinearAxis\"}],\"plot_height\":150,\"plot_width\":400,\"renderers\":[{\"id\":\"cb408ac4-f800-4275-b95c-beacd1f6f817\",\"type\":\"LinearAxis\"},{\"id\":\"cf8c8007-8d54-4888-8d4d-4bbddff39e60\",\"type\":\"Grid\"},{\"id\":\"80600e4f-2ede-4d0a-957f-7b5090539f5f\",\"type\":\"LinearAxis\"},{\"id\":\"60710842-82e9-4544-9a7e-df8f26f41936\",\"type\":\"Grid\"},{\"id\":\"0d96fec1-4281-4a04-9d30-0094169163d7\",\"type\":\"BoxAnnotation\"},{\"id\":\"5a8bbb1a-e941-43b4-891a-57977019c0b7\",\"type\":\"GlyphRenderer\"}],\"title\":{\"id\":\"024becd1-2d5d-4794-b553-e663d4254551\",\"type\":\"Title\"},\"toolbar\":{\"id\":\"5a8d8389-271e-4049-9220-f1239c453d35\",\"type\":\"Toolbar\"},\"x_range\":{\"id\":\"0e339c10-ff4c-4f41-8c80-c92be65a35c7\",\"type\":\"Range1d\"},\"x_scale\":{\"id\":\"a00372b6-e1ff-4861-9221-85441ee24373\",\"type\":\"LinearScale\"},\"y_range\":{\"id\":\"c9b65675-8e25-4369-a4e3-32d598403111\",\"type\":\"Range1d\"},\"y_scale\":{\"id\":\"9f0c8fef-b8c7-4ab1-bd31-12c8b54c1415\",\"type\":\"LinearScale\"}},\"id\":\"c067829d-cef5-4206-9bc6-606c9b813e3d\",\"subtype\":\"Figure\",\"type\":\"Plot\"},{\"attributes\":{\"callback\":null,\"end\":61,\"start\":-1},\"id\":\"0e339c10-ff4c-4f41-8c80-c92be65a35c7\",\"type\":\"Range1d\"},{\"attributes\":{\"source\":{\"id\":\"08ab7327-8684-4edd-9a35-ca1dfa0a3ba5\",\"type\":\"ColumnDataSource\"}},\"id\":\"123a38c2-844a-4033-a4be-0db77924ba45\",\"type\":\"CDSView\"},{\"attributes\":{\"data_source\":{\"id\":\"3aa1d245-164d-4499-ab07-61a3ec0f09fa\",\"type\":\"ColumnDataSource\"},\"glyph\":{\"id\":\"9cae9379-e5f9-4fc3-960a-cb9e6c4c6a98\",\"type\":\"Circle\"},\"hover_glyph\":null,\"muted_glyph\":null,\"nonselection_glyph\":{\"id\":\"22cdf5d4-43a7-4356-8d37-77f4ba90c5f7\",\"type\":\"Circle\"},\"selection_glyph\":null,\"view\":{\"id\":\"79343e4a-ca9f-4e6c-8860-5f660e4fcfbe\",\"type\":\"CDSView\"}},\"id\":\"a8dc5e17-a8e2-43ca-9ef0-21a22ec56024\",\"type\":\"GlyphRenderer\"},{\"attributes\":{\"callback\":null,\"data\":{\"x\":[2.2204460492503132e-17],\"y\":[1.9984014443252818e-16]},\"selected\":{\"id\":\"5630ff4c-3003-45f1-9c54-207ce3a64a1c\",\"type\":\"Selection\"},\"selection_policy\":{\"id\":\"c70327a0-32ab-462c-a510-e286e925cca0\",\"type\":\"UnionRenderers\"}},\"id\":\"3aa1d245-164d-4499-ab07-61a3ec0f09fa\",\"type\":\"ColumnDataSource\"},{\"attributes\":{\"fill_color\":{\"value\":\"red\"},\"line_color\":{\"value\":\"red\"},\"size\":{\"units\":\"screen\",\"value\":8},\"x\":{\"field\":\"x\"},\"y\":{\"field\":\"y\"}},\"id\":\"9cae9379-e5f9-4fc3-960a-cb9e6c4c6a98\",\"type\":\"Circle\"}],\"root_ids\":[\"d83b5938-7ae3-4819-93f5-b250928242f2\"]},\"title\":\"Bokeh Application\",\"version\":\"0.13.0\"}};\n",
       "  var render_items = [{\"docid\":\"e30af3f5-1348-4e78-889d-55f6105229f9\",\"notebook_comms_target\":\"f4102df2-0307-4665-bedf-55b9d64e954d\",\"roots\":{\"d83b5938-7ae3-4819-93f5-b250928242f2\":\"bc7d077f-bf72-4867-b4fd-8a261cbb70df\"}}];\n",
       "  root.Bokeh.embed.embed_items_notebook(docs_json, render_items);\n",
       "\n",
       "  }\n",
       "  if (root.Bokeh !== undefined) {\n",
       "    embed_document(root);\n",
       "  } else {\n",
       "    var attempts = 0;\n",
       "    var timer = setInterval(function(root) {\n",
       "      if (root.Bokeh !== undefined) {\n",
       "        embed_document(root);\n",
       "        clearInterval(timer);\n",
       "      }\n",
       "      attempts++;\n",
       "      if (attempts > 100) {\n",
       "        console.log(\"Bokeh: ERROR: Unable to run BokehJS code because BokehJS library is missing\")\n",
       "        clearInterval(timer);\n",
       "      }\n",
       "    }, 10, root)\n",
       "  }\n",
       "})(window);"
      ],
      "application/vnd.bokehjs_exec.v0+json": ""
     },
     "metadata": {
      "application/vnd.bokehjs_exec.v0+json": {
       "id": "d83b5938-7ae3-4819-93f5-b250928242f2"
      }
     },
     "output_type": "display_data"
    }
   ],
   "source": [
    "frequencies = [1, 7]\n",
    "radii = [1, .4]\n",
    "animate_points_ft(frequencies, radii, N=20, max_f=60)"
   ]
  },
  {
   "cell_type": "code",
   "execution_count": null,
   "metadata": {},
   "outputs": [],
   "source": []
  }
 ],
 "metadata": {
  "kernelspec": {
   "display_name": "Python 3",
   "language": "python",
   "name": "python3"
  },
  "language_info": {
   "codemirror_mode": {
    "name": "ipython",
    "version": 3
   },
   "file_extension": ".py",
   "mimetype": "text/x-python",
   "name": "python",
   "nbconvert_exporter": "python",
   "pygments_lexer": "ipython3",
   "version": "3.7.3"
  }
 },
 "nbformat": 4,
 "nbformat_minor": 1
}
